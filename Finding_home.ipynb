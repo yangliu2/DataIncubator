{
 "cells": [
  {
   "cell_type": "markdown",
   "metadata": {},
   "source": [
    "# Finding home"
   ]
  },
  {
   "cell_type": "markdown",
   "metadata": {},
   "source": [
    "As an Asian parent looking for a place to live, I'm looking for a place with the best space to price ratio, while having the most number of Chinese/Asian restaurants, and located near good schools for my children. Unfortunately, most single sets of public data only have a single aspect of housing price data, restaurant info, or school grade. I would like to find the best neighborhood/zip code with a combination of these values given a budget."
   ]
  },
  {
   "cell_type": "code",
   "execution_count": 1,
   "metadata": {
    "collapsed": true
   },
   "outputs": [],
   "source": [
    "import numpy as np\n",
    "import pandas as pd\n",
    "import requests\n",
    "import os.path\n",
    "import io\n",
    "import re\n",
    "import time\n",
    "import json"
   ]
  },
  {
   "cell_type": "code",
   "execution_count": 4,
   "metadata": {
    "collapsed": true
   },
   "outputs": [],
   "source": [
    "# set home searching parameters\n",
    "budget_max = 400000\n",
    "budget_min = 300000\n",
    "built_year = 1900 #built year cutoff\n",
    "grade = 8 #average school grade needed\n",
    "cusine = 'Chinese'\n",
    "food_section = 5 #number of zipcode areas with top restuarant\n",
    "interest = 'biking'"
   ]
  },
  {
   "cell_type": "markdown",
   "metadata": {},
   "source": [
    "I first decided to get the property tax data from the City of New York for a complete list of properties. \n",
    "https://data.cityofnewyork.us/Housing-Development/Property-Valuation-and-Assessment-data-Tax-Class/qpsp-bm9z"
   ]
  },
  {
   "cell_type": "code",
   "execution_count": 5,
   "metadata": {
    "collapsed": false
   },
   "outputs": [],
   "source": [
    "# import data from NYC Property Valuation and Assessment data \n",
    "data = pd.read_csv('TC1.txt')"
   ]
  },
  {
   "cell_type": "markdown",
   "metadata": {},
   "source": [
    "I then filtered the total value (CUR_FV_L column) by max and min budget. \n",
    "Filter the building by years built after built year cutoff"
   ]
  },
  {
   "cell_type": "code",
   "execution_count": 6,
   "metadata": {
    "collapsed": false
   },
   "outputs": [],
   "source": [
    "# Filter by budget, set as 20% above and below budget\n",
    "\n",
    "budget = data.loc[data['CUR_FV_T'] < budget_max]\n",
    "budget = budget.loc[budget['CUR_FV_T'] > budget_min]\n",
    "\n",
    "# Find places built after specified year\n",
    "after_built_year = budget.loc[budget['YRB'] >= built_year]\n",
    "valid_address = after_built_year[pd.notnull(after_built_year['HNUM_LO'])] # filter valid address for Zillow search\n",
    "price_by_zip = valid_address.groupby(by=['ZIP'])['CUR_FV_T'].mean()"
   ]
  },
  {
   "cell_type": "markdown",
   "metadata": {},
   "source": [
    "Cross check with NYC restaurant health inspection data to find the zip codes with the most number of \"Grade A\" restaurants. From: https://data.cityofnewyork.us/Health/DOHMH-New-York-City-Restaurant-Inspection-Results/xx67-kt59"
   ]
  },
  {
   "cell_type": "code",
   "execution_count": 7,
   "metadata": {
    "collapsed": false
   },
   "outputs": [
    {
     "name": "stderr",
     "output_type": "stream",
     "text": [
      "C:\\Anaconda\\lib\\site-packages\\pandas\\io\\parsers.py:1170: DtypeWarning: Columns (6) have mixed types. Specify dtype option on import or set low_memory=False.\n",
      "  data = self._reader.read(nrows)\n"
     ]
    }
   ],
   "source": [
    "# imported the NYC restaurant inspection data to look at nearby restaurants\n",
    "food = pd.read_csv('NYC_Restaurant_inspection.csv')"
   ]
  },
  {
   "cell_type": "code",
   "execution_count": 8,
   "metadata": {
    "collapsed": false
   },
   "outputs": [],
   "source": [
    "# find unique places by last inspection\n",
    "unique_food = food\n",
    "unique_food.drop_duplicates(subset = 'DBA', inplace = True)"
   ]
  },
  {
   "cell_type": "code",
   "execution_count": 9,
   "metadata": {
    "collapsed": false
   },
   "outputs": [],
   "source": [
    "# find clean Chinese places\n",
    "clean_food=unique_food.loc[unique_food['GRADE'] == 'A']\n",
    "chinese_food = clean_food.loc[unique_food['CUISINE DESCRIPTION'] == cusine]"
   ]
  },
  {
   "cell_type": "code",
   "execution_count": 10,
   "metadata": {
    "collapsed": true
   },
   "outputs": [],
   "source": [
    "# group places by zip code\n",
    "food_by_zip=chinese_food.groupby(by=['ZIPCODE'])['GRADE'].count()"
   ]
  },
  {
   "cell_type": "code",
   "execution_count": 11,
   "metadata": {
    "collapsed": true
   },
   "outputs": [],
   "source": [
    "#combine food and mean price into one dataframe\n",
    "food_and_price = pd.concat([food_by_zip, price_by_zip], axis=1)"
   ]
  },
  {
   "cell_type": "code",
   "execution_count": 14,
   "metadata": {
    "collapsed": false
   },
   "outputs": [
    {
     "name": "stderr",
     "output_type": "stream",
     "text": [
      ":0: FutureWarning: IPython widgets are experimental and may change in the future.\n"
     ]
    }
   ],
   "source": [
    "%matplotlib inline\n",
    "import seaborn as sns\n",
    "import matplotlib.pyplot as plt"
   ]
  },
  {
   "cell_type": "code",
   "execution_count": 15,
   "metadata": {
    "collapsed": false
   },
   "outputs": [
    {
     "data": {
      "text/plain": [
       "<matplotlib.text.Text at 0x365c9208>"
      ]
     },
     "execution_count": 15,
     "metadata": {},
     "output_type": "execute_result"
    },
    {
     "data": {
      "image/png": "[encoded data removed]",
      "text/plain": [
       "<matplotlib.figure.Figure at 0x1b52e2e8>"
      ]
     },
     "metadata": {},
     "output_type": "display_data"
    }
   ],
   "source": [
    "# make a plot for number of restaurants in zip code vs. home price\n",
    "sns.plt.scatter(food_and_price['CUR_FV_T'], food_and_price['GRADE'])\n",
    "sns.plt.title('Number of Grade A Restaurants vs. Home Price by zip code')\n",
    "sns.plt.xlabel('Mean Home Price ($)')\n",
    "sns.plt.ylabel('Number of Grade A Restaurants')"
   ]
  },
  {
   "cell_type": "markdown",
   "metadata": {},
   "source": [
    "Five zip codes stand out with the most number of Chinese Restaurants. "
   ]
  },
  {
   "cell_type": "code",
   "execution_count": 16,
   "metadata": {
    "collapsed": false
   },
   "outputs": [
    {
     "data": {
      "text/plain": [
       "<matplotlib.axes._subplots.AxesSubplot at 0x2591c240>"
      ]
     },
     "execution_count": 16,
     "metadata": {},
     "output_type": "execute_result"
    },
    {
     "data": {
      "image/png": "[encoded data removed]",
      "text/plain": [
       "<matplotlib.figure.Figure at 0x146e8be0>"
      ]
     },
     "metadata": {},
     "output_type": "display_data"
    }
   ],
   "source": [
    "#look at the distribution of prices by zipcode\n",
    "nonzero_price = food_and_price[pd.notnull(food_and_price['CUR_FV_T'])]\n",
    "sns.distplot(nonzero_price['CUR_FV_T'], kde=False)"
   ]
  },
  {
   "cell_type": "code",
   "execution_count": 17,
   "metadata": {
    "collapsed": false
   },
   "outputs": [
    {
     "data": {
      "text/html": [
       "<div>\n",
       "<table border=\"1\" class=\"dataframe\">\n",
       "  <thead>\n",
       "    <tr style=\"text-align: right;\">\n",
       "      <th></th>\n",
       "      <th>GRADE</th>\n",
       "      <th>CUR_FV_T</th>\n",
       "    </tr>\n",
       "  </thead>\n",
       "  <tbody>\n",
       "    <tr>\n",
       "      <th>11354</th>\n",
       "      <td>95</td>\n",
       "      <td>366133.253968</td>\n",
       "    </tr>\n",
       "    <tr>\n",
       "      <th>11220</th>\n",
       "      <td>73</td>\n",
       "      <td>354656.841379</td>\n",
       "    </tr>\n",
       "    <tr>\n",
       "      <th>10002</th>\n",
       "      <td>69</td>\n",
       "      <td>342702.264706</td>\n",
       "    </tr>\n",
       "    <tr>\n",
       "      <th>11355</th>\n",
       "      <td>60</td>\n",
       "      <td>352369.160000</td>\n",
       "    </tr>\n",
       "    <tr>\n",
       "      <th>11214</th>\n",
       "      <td>32</td>\n",
       "      <td>361363.936170</td>\n",
       "    </tr>\n",
       "  </tbody>\n",
       "</table>\n",
       "</div>"
      ],
      "text/plain": [
       "       GRADE       CUR_FV_T\n",
       "11354     95  366133.253968\n",
       "11220     73  354656.841379\n",
       "10002     69  342702.264706\n",
       "11355     60  352369.160000\n",
       "11214     32  361363.936170"
      ]
     },
     "execution_count": 17,
     "metadata": {},
     "output_type": "execute_result"
    }
   ],
   "source": [
    "# take out invalid prices\n",
    "short_list= food_and_price[pd.notnull(food_and_price['CUR_FV_T'])]\n",
    "short_list= short_list.sort('GRADE', ascending=False)\n",
    "short_list.head(food_section)\n",
    "\n",
    "# the top 5 areas include 11354, 11220 , 10002, 11355, AND 11214.\n",
    "# can expand to other zip codes if no valid results are found"
   ]
  },
  {
   "cell_type": "code",
   "execution_count": 18,
   "metadata": {
    "collapsed": false
   },
   "outputs": [],
   "source": [
    "home_with_food = valid_address.loc[valid_address['ZIP'].isin(short_list.head(food_section).index)]"
   ]
  },
  {
   "cell_type": "code",
   "execution_count": null,
   "metadata": {
    "collapsed": false
   },
   "outputs": [],
   "source": []
  },
  {
   "cell_type": "markdown",
   "metadata": {},
   "source": [
    "Use Zillows  API to find these places and scraped each zillow page to see if the property is: 1) on the market, and 2) near a good school."
   ]
  },
  {
   "cell_type": "code",
   "execution_count": 20,
   "metadata": {
    "collapsed": false,
    "scrolled": true
   },
   "outputs": [
    {
     "name": "stdout",
     "output_type": "stream",
     "text": [
      "error on line 151\n",
      "error on line 192\n",
      "error on line 355\n",
      "error on line 356\n",
      "error on line 387\n",
      "error on line 389\n",
      "error on line 391\n",
      "error on line 419\n",
      "error on line 421\n",
      "error on line 434\n",
      "error on line 435\n",
      "error on line 436\n",
      "error on line 507\n",
      "error on line 549\n",
      "error on line 584\n",
      "error on line 594\n",
      "error on line 595\n",
      "error on line 603\n",
      "error on line 633\n",
      "error on line 634\n",
      "error on line 638\n",
      "error on line 648\n",
      "error on line 651\n",
      "error on line 652\n"
     ]
    }
   ],
   "source": [
    "# zillow API function, have 1000 request per day limit\n",
    "# only use after getting small number of interested properties\n",
    "\n",
    "from pyzillow.pyzillow import ZillowWrapper, GetDeepSearchResults, GetUpdatedPropertyDetails\n",
    "# pyzillow \n",
    "# https://github.com/hanneshapke/pyzillow\n",
    "\n",
    "YOUR_ZILLOW_API_KEY = 'X1-ZWz1fcz57zvjt7_6jziz'\n",
    "\n",
    "zillow_link = []\n",
    "zillow_link_ID = []\n",
    "for i in range(len(home_with_food)):\n",
    "    # sometimes zillow API wrapper dones't accept address/zipcode, even though they are strings\n",
    "    try:\n",
    "        # convert process street numbers for zillow API wrapper\n",
    "        street_num = home_with_food.iloc[i]['HNUM_LO']\n",
    "\n",
    "        if (street_num.isdigit() is False):\n",
    "            street_num = ''.join(c for c in street_num if c.isdigit())\n",
    "        number = int(street_num)\n",
    "\n",
    "        # assing address and zipcode\n",
    "        address = str(number) + ' ' + str(home_with_food.iloc[i]['STR_NAME'])\n",
    "        zipcode = str(int(home_with_food.iloc[i]['ZIP']))\n",
    "\n",
    "        #use zillow API wrapper to get website link for this property\n",
    "        zillow_data = ZillowWrapper(YOUR_ZILLOW_API_KEY)\n",
    "        deep_search_response = zillow_data.get_deep_search_results(address, zipcode)\n",
    "        result = GetDeepSearchResults(deep_search_response)\n",
    "\n",
    "        zillow_link.append(result.home_detail_link)\n",
    "        zillow_link_ID.append(result.zillow_id)\n",
    "    except:\n",
    "        print \"error on line\", i\n",
    "        pass"
   ]
  },
  {
   "cell_type": "code",
   "execution_count": 21,
   "metadata": {
    "collapsed": false
   },
   "outputs": [],
   "source": [
    "links = pd.DataFrame(list(zillow_link))\n",
    "links.columns=['Zillow Links']\n",
    "links['Zillow ID'] = zillow_link_ID"
   ]
  },
  {
   "cell_type": "code",
   "execution_count": null,
   "metadata": {
    "collapsed": false
   },
   "outputs": [],
   "source": []
  },
  {
   "cell_type": "code",
   "execution_count": 22,
   "metadata": {
    "collapsed": false
   },
   "outputs": [
    {
     "data": {
      "text/plain": [
       "660"
      ]
     },
     "execution_count": 22,
     "metadata": {},
     "output_type": "execute_result"
    }
   ],
   "source": [
    "len(zillow_link)"
   ]
  },
  {
   "cell_type": "code",
   "execution_count": null,
   "metadata": {
    "collapsed": false
   },
   "outputs": [],
   "source": []
  },
  {
   "cell_type": "markdown",
   "metadata": {},
   "source": [
    "Scrap the Zillow pages to nearby school ratings for the property"
   ]
  },
  {
   "cell_type": "code",
   "execution_count": 23,
   "metadata": {
    "collapsed": false
   },
   "outputs": [],
   "source": [
    "from bs4 import BeautifulSoup\n",
    "\n",
    "ratings = []\n",
    "status = []\n",
    "\n",
    "for i in range(len(links)):\n",
    "\n",
    "    rate = []\n",
    "\n",
    "    #scrapying zillow page for school rating\n",
    "    r = requests.get(links['Zillow Links'][i])\n",
    "\n",
    "    #parse with BeautifulSoup\n",
    "\n",
    "    soup = BeautifulSoup(r.text, \"html.parser\")\n",
    "\n",
    "    #check if selling\n",
    "    sale_tag = soup.find(id = 'home-value-wrapper')\n",
    "\n",
    "    if ('For Sale' in sale_tag.text):\n",
    "        status.append('For Sale')\n",
    "    elif ('Off Market' in sale_tag.text):\n",
    "        status.append('Off Market')\n",
    "    elif ('Sold' in sale_tag.text):\n",
    "        status.append('Sold')\n",
    "    elif ('PENDING' in sale_tag.text):\n",
    "        status.append('Pending')\n",
    "    else:\n",
    "        status.append('Unknown')\n",
    "\n",
    "    #find id='nearbySchools'\n",
    "    rating = soup.find(id = 'nearbySchools')\n",
    "\n",
    "    #find 'li' in the table\n",
    "    rows = rating.find_all('li')\n",
    "\n",
    "    #find each row by 'div', first char of each striped value is grade\n",
    "    #get a list of all three, pk-5, 6-8, 9-12 in random order\n",
    "    rate=[]\n",
    "    for row in rows[1:4]:\n",
    "        score = row.find_all('div')[0].text.strip()\n",
    "        rate.append(int(score[0:2]))\n",
    "    # print rate\n",
    "    ratings.append(rate)"
   ]
  },
  {
   "cell_type": "code",
   "execution_count": 24,
   "metadata": {
    "collapsed": false
   },
   "outputs": [],
   "source": [
    "links['School Rating'] = ratings\n",
    "links['Status'] = status"
   ]
  },
  {
   "cell_type": "markdown",
   "metadata": {},
   "source": [
    "At the end, I was able to find a property in Flushing, Queen in a relatively good area. It is close to elementry and middle school with scores of 10 and 9. Although the score of 3 for high school is low, I may need to consider other options later. For now, this seems to be a nice place to look. "
   ]
  },
  {
   "cell_type": "code",
   "execution_count": 25,
   "metadata": {
    "collapsed": false
   },
   "outputs": [
    {
     "data": {
      "text/html": [
       "<div>\n",
       "<table border=\"1\" class=\"dataframe\">\n",
       "  <thead>\n",
       "    <tr style=\"text-align: right;\">\n",
       "      <th></th>\n",
       "      <th>Zillow Links</th>\n",
       "      <th>Zillow ID</th>\n",
       "      <th>School Rating</th>\n",
       "      <th>Status</th>\n",
       "    </tr>\n",
       "  </thead>\n",
       "  <tbody>\n",
       "    <tr>\n",
       "      <th>0</th>\n",
       "      <td>http://www.zillow.com/homedetails/291-Cherry-S...</td>\n",
       "      <td>31495176</td>\n",
       "      <td>[10, 10, 9]</td>\n",
       "      <td>Off Market</td>\n",
       "    </tr>\n",
       "    <tr>\n",
       "      <th>1</th>\n",
       "      <td>http://www.zillow.com/homedetails/291-Cherry-S...</td>\n",
       "      <td>31495176</td>\n",
       "      <td>[10, 10, 9]</td>\n",
       "      <td>Off Market</td>\n",
       "    </tr>\n",
       "    <tr>\n",
       "      <th>2</th>\n",
       "      <td>http://www.zillow.com/homedetails/291-Cherry-S...</td>\n",
       "      <td>31495176</td>\n",
       "      <td>[10, 10, 9]</td>\n",
       "      <td>Off Market</td>\n",
       "    </tr>\n",
       "    <tr>\n",
       "      <th>3</th>\n",
       "      <td>http://www.zillow.com/homedetails/291-Cherry-S...</td>\n",
       "      <td>31495176</td>\n",
       "      <td>[10, 10, 9]</td>\n",
       "      <td>Off Market</td>\n",
       "    </tr>\n",
       "    <tr>\n",
       "      <th>4</th>\n",
       "      <td>http://www.zillow.com/homedetails/291-Cherry-S...</td>\n",
       "      <td>31495176</td>\n",
       "      <td>[10, 10, 9]</td>\n",
       "      <td>Off Market</td>\n",
       "    </tr>\n",
       "    <tr>\n",
       "      <th>5</th>\n",
       "      <td>http://www.zillow.com/homedetails/291-Cherry-S...</td>\n",
       "      <td>31495176</td>\n",
       "      <td>[10, 10, 9]</td>\n",
       "      <td>Off Market</td>\n",
       "    </tr>\n",
       "    <tr>\n",
       "      <th>6</th>\n",
       "      <td>http://www.zillow.com/homedetails/291-Cherry-S...</td>\n",
       "      <td>31495176</td>\n",
       "      <td>[10, 10, 9]</td>\n",
       "      <td>Off Market</td>\n",
       "    </tr>\n",
       "    <tr>\n",
       "      <th>7</th>\n",
       "      <td>http://www.zillow.com/homedetails/291-Cherry-S...</td>\n",
       "      <td>31495176</td>\n",
       "      <td>[10, 10, 9]</td>\n",
       "      <td>Off Market</td>\n",
       "    </tr>\n",
       "    <tr>\n",
       "      <th>8</th>\n",
       "      <td>http://www.zillow.com/homedetails/305-Cherry-S...</td>\n",
       "      <td>31495191</td>\n",
       "      <td>[10, 10, 9]</td>\n",
       "      <td>Off Market</td>\n",
       "    </tr>\n",
       "    <tr>\n",
       "      <th>9</th>\n",
       "      <td>http://www.zillow.com/homedetails/305-Cherry-S...</td>\n",
       "      <td>31495191</td>\n",
       "      <td>[10, 10, 9]</td>\n",
       "      <td>Off Market</td>\n",
       "    </tr>\n",
       "    <tr>\n",
       "      <th>10</th>\n",
       "      <td>http://www.zillow.com/homedetails/305-Cherry-S...</td>\n",
       "      <td>31495191</td>\n",
       "      <td>[10, 10, 9]</td>\n",
       "      <td>Off Market</td>\n",
       "    </tr>\n",
       "    <tr>\n",
       "      <th>11</th>\n",
       "      <td>http://www.zillow.com/homedetails/305-Cherry-S...</td>\n",
       "      <td>31495191</td>\n",
       "      <td>[10, 10, 9]</td>\n",
       "      <td>Off Market</td>\n",
       "    </tr>\n",
       "    <tr>\n",
       "      <th>12</th>\n",
       "      <td>http://www.zillow.com/homedetails/305-Cherry-S...</td>\n",
       "      <td>31495191</td>\n",
       "      <td>[10, 10, 9]</td>\n",
       "      <td>Off Market</td>\n",
       "    </tr>\n",
       "    <tr>\n",
       "      <th>13</th>\n",
       "      <td>http://www.zillow.com/homedetails/305-Cherry-S...</td>\n",
       "      <td>31495191</td>\n",
       "      <td>[10, 10, 9]</td>\n",
       "      <td>Off Market</td>\n",
       "    </tr>\n",
       "    <tr>\n",
       "      <th>14</th>\n",
       "      <td>http://www.zillow.com/homedetails/305-Cherry-S...</td>\n",
       "      <td>31495191</td>\n",
       "      <td>[10, 10, 9]</td>\n",
       "      <td>Off Market</td>\n",
       "    </tr>\n",
       "    <tr>\n",
       "      <th>15</th>\n",
       "      <td>http://www.zillow.com/homedetails/305-Cherry-S...</td>\n",
       "      <td>31495191</td>\n",
       "      <td>[10, 10, 9]</td>\n",
       "      <td>Off Market</td>\n",
       "    </tr>\n",
       "    <tr>\n",
       "      <th>16</th>\n",
       "      <td>http://www.zillow.com/homedetails/253-Clinton-...</td>\n",
       "      <td>31495215</td>\n",
       "      <td>[10, 10, 9]</td>\n",
       "      <td>Off Market</td>\n",
       "    </tr>\n",
       "    <tr>\n",
       "      <th>17</th>\n",
       "      <td>http://www.zillow.com/homedetails/253-Clinton-...</td>\n",
       "      <td>31495215</td>\n",
       "      <td>[10, 10, 9]</td>\n",
       "      <td>Off Market</td>\n",
       "    </tr>\n",
       "    <tr>\n",
       "      <th>18</th>\n",
       "      <td>http://www.zillow.com/homedetails/253-Clinton-...</td>\n",
       "      <td>31495215</td>\n",
       "      <td>[10, 10, 9]</td>\n",
       "      <td>Off Market</td>\n",
       "    </tr>\n",
       "    <tr>\n",
       "      <th>19</th>\n",
       "      <td>http://www.zillow.com/homedetails/253-Clinton-...</td>\n",
       "      <td>31495215</td>\n",
       "      <td>[10, 10, 9]</td>\n",
       "      <td>Off Market</td>\n",
       "    </tr>\n",
       "    <tr>\n",
       "      <th>20</th>\n",
       "      <td>http://www.zillow.com/homedetails/253-Clinton-...</td>\n",
       "      <td>31495215</td>\n",
       "      <td>[10, 10, 9]</td>\n",
       "      <td>Off Market</td>\n",
       "    </tr>\n",
       "    <tr>\n",
       "      <th>21</th>\n",
       "      <td>http://www.zillow.com/homedetails/255-Clinton-...</td>\n",
       "      <td>31495220</td>\n",
       "      <td>[10, 10, 9]</td>\n",
       "      <td>Sold</td>\n",
       "    </tr>\n",
       "    <tr>\n",
       "      <th>22</th>\n",
       "      <td>http://www.zillow.com/homedetails/253-Clinton-...</td>\n",
       "      <td>31495215</td>\n",
       "      <td>[10, 10, 9]</td>\n",
       "      <td>Off Market</td>\n",
       "    </tr>\n",
       "    <tr>\n",
       "      <th>23</th>\n",
       "      <td>http://www.zillow.com/homedetails/253-Clinton-...</td>\n",
       "      <td>31495215</td>\n",
       "      <td>[10, 10, 9]</td>\n",
       "      <td>Off Market</td>\n",
       "    </tr>\n",
       "    <tr>\n",
       "      <th>24</th>\n",
       "      <td>http://www.zillow.com/homedetails/253-Clinton-...</td>\n",
       "      <td>31495215</td>\n",
       "      <td>[10, 10, 9]</td>\n",
       "      <td>Off Market</td>\n",
       "    </tr>\n",
       "    <tr>\n",
       "      <th>25</th>\n",
       "      <td>http://www.zillow.com/homedetails/253-Clinton-...</td>\n",
       "      <td>31495215</td>\n",
       "      <td>[10, 10, 9]</td>\n",
       "      <td>Off Market</td>\n",
       "    </tr>\n",
       "    <tr>\n",
       "      <th>26</th>\n",
       "      <td>http://www.zillow.com/homedetails/253-Clinton-...</td>\n",
       "      <td>31495215</td>\n",
       "      <td>[10, 10, 9]</td>\n",
       "      <td>Off Market</td>\n",
       "    </tr>\n",
       "    <tr>\n",
       "      <th>27</th>\n",
       "      <td>http://www.zillow.com/homedetails/253-Clinton-...</td>\n",
       "      <td>31495215</td>\n",
       "      <td>[10, 10, 9]</td>\n",
       "      <td>Off Market</td>\n",
       "    </tr>\n",
       "    <tr>\n",
       "      <th>28</th>\n",
       "      <td>http://www.zillow.com/homedetails/251-Clinton-...</td>\n",
       "      <td>31495227</td>\n",
       "      <td>[10, 10, 9]</td>\n",
       "      <td>Off Market</td>\n",
       "    </tr>\n",
       "    <tr>\n",
       "      <th>29</th>\n",
       "      <td>http://www.zillow.com/homedetails/253-Clinton-...</td>\n",
       "      <td>31495215</td>\n",
       "      <td>[10, 10, 9]</td>\n",
       "      <td>Off Market</td>\n",
       "    </tr>\n",
       "    <tr>\n",
       "      <th>...</th>\n",
       "      <td>...</td>\n",
       "      <td>...</td>\n",
       "      <td>...</td>\n",
       "      <td>...</td>\n",
       "    </tr>\n",
       "    <tr>\n",
       "      <th>630</th>\n",
       "      <td>http://www.zillow.com/homedetails/15129-34th-A...</td>\n",
       "      <td>32043063</td>\n",
       "      <td>[9, 8, 3]</td>\n",
       "      <td>Sold</td>\n",
       "    </tr>\n",
       "    <tr>\n",
       "      <th>631</th>\n",
       "      <td>http://www.zillow.com/homedetails/15125-34th-A...</td>\n",
       "      <td>32043064</td>\n",
       "      <td>[9, 8, 3]</td>\n",
       "      <td>Sold</td>\n",
       "    </tr>\n",
       "    <tr>\n",
       "      <th>632</th>\n",
       "      <td>http://www.zillow.com/homedetails/3504-154th-S...</td>\n",
       "      <td>32043907</td>\n",
       "      <td>[9, 8, 3]</td>\n",
       "      <td>Off Market</td>\n",
       "    </tr>\n",
       "    <tr>\n",
       "      <th>633</th>\n",
       "      <td>http://www.zillow.com/homedetails/3508-154th-S...</td>\n",
       "      <td>32043908</td>\n",
       "      <td>[9, 8, 3]</td>\n",
       "      <td>Off Market</td>\n",
       "    </tr>\n",
       "    <tr>\n",
       "      <th>634</th>\n",
       "      <td>http://www.zillow.com/homedetails/3502-154th-S...</td>\n",
       "      <td>32043915</td>\n",
       "      <td>[9, 8, 3]</td>\n",
       "      <td>Off Market</td>\n",
       "    </tr>\n",
       "    <tr>\n",
       "      <th>635</th>\n",
       "      <td>http://www.zillow.com/homedetails/3506-154th-S...</td>\n",
       "      <td>32043916</td>\n",
       "      <td>[9, 8, 3]</td>\n",
       "      <td>Off Market</td>\n",
       "    </tr>\n",
       "    <tr>\n",
       "      <th>636</th>\n",
       "      <td>http://www.zillow.com/homedetails/3510-154th-S...</td>\n",
       "      <td>32043917</td>\n",
       "      <td>[9, 8, 3]</td>\n",
       "      <td>Off Market</td>\n",
       "    </tr>\n",
       "    <tr>\n",
       "      <th>637</th>\n",
       "      <td>http://www.zillow.com/homedetails/14710-45th-A...</td>\n",
       "      <td>32047483</td>\n",
       "      <td>[9, 8, 3]</td>\n",
       "      <td>Off Market</td>\n",
       "    </tr>\n",
       "    <tr>\n",
       "      <th>638</th>\n",
       "      <td>http://www.zillow.com/homedetails/14712-45th-A...</td>\n",
       "      <td>32047484</td>\n",
       "      <td>[9, 8, 3]</td>\n",
       "      <td>Off Market</td>\n",
       "    </tr>\n",
       "    <tr>\n",
       "      <th>639</th>\n",
       "      <td>http://www.zillow.com/homedetails/14714-45th-A...</td>\n",
       "      <td>32047485</td>\n",
       "      <td>[9, 8, 3]</td>\n",
       "      <td>Off Market</td>\n",
       "    </tr>\n",
       "    <tr>\n",
       "      <th>640</th>\n",
       "      <td>http://www.zillow.com/homedetails/14716-45th-A...</td>\n",
       "      <td>32047486</td>\n",
       "      <td>[9, 8, 3]</td>\n",
       "      <td>Off Market</td>\n",
       "    </tr>\n",
       "    <tr>\n",
       "      <th>641</th>\n",
       "      <td>http://www.zillow.com/homedetails/14718-45th-A...</td>\n",
       "      <td>32047487</td>\n",
       "      <td>[9, 8, 3]</td>\n",
       "      <td>Off Market</td>\n",
       "    </tr>\n",
       "    <tr>\n",
       "      <th>642</th>\n",
       "      <td>http://www.zillow.com/homedetails/14719-Hawtho...</td>\n",
       "      <td>32047504</td>\n",
       "      <td>[9, 8, 2]</td>\n",
       "      <td>Off Market</td>\n",
       "    </tr>\n",
       "    <tr>\n",
       "      <th>643</th>\n",
       "      <td>http://www.zillow.com/homedetails/4525-Parsons...</td>\n",
       "      <td>32047509</td>\n",
       "      <td>[9, 8, 3]</td>\n",
       "      <td>Off Market</td>\n",
       "    </tr>\n",
       "    <tr>\n",
       "      <th>644</th>\n",
       "      <td>http://www.zillow.com/homedetails/4523-Parsons...</td>\n",
       "      <td>32047510</td>\n",
       "      <td>[9, 8, 3]</td>\n",
       "      <td>Off Market</td>\n",
       "    </tr>\n",
       "    <tr>\n",
       "      <th>645</th>\n",
       "      <td>http://www.zillow.com/homedetails/4521-Parsons...</td>\n",
       "      <td>32047511</td>\n",
       "      <td>[9, 8, 3]</td>\n",
       "      <td>Off Market</td>\n",
       "    </tr>\n",
       "    <tr>\n",
       "      <th>646</th>\n",
       "      <td>http://www.zillow.com/homedetails/15715-46th-A...</td>\n",
       "      <td>32047723</td>\n",
       "      <td>[9, 2, 9]</td>\n",
       "      <td>Sold</td>\n",
       "    </tr>\n",
       "    <tr>\n",
       "      <th>647</th>\n",
       "      <td>http://www.zillow.com/homedetails/13037-58th-R...</td>\n",
       "      <td>32063449</td>\n",
       "      <td>[9, 4, 10]</td>\n",
       "      <td>Off Market</td>\n",
       "    </tr>\n",
       "    <tr>\n",
       "      <th>648</th>\n",
       "      <td>http://www.zillow.com/homedetails/13014-60th-A...</td>\n",
       "      <td>64834200</td>\n",
       "      <td>[9, 4, 10]</td>\n",
       "      <td>Off Market</td>\n",
       "    </tr>\n",
       "    <tr>\n",
       "      <th>649</th>\n",
       "      <td>http://www.zillow.com/homedetails/13014-60th-A...</td>\n",
       "      <td>64834200</td>\n",
       "      <td>[9, 4, 10]</td>\n",
       "      <td>Off Market</td>\n",
       "    </tr>\n",
       "    <tr>\n",
       "      <th>650</th>\n",
       "      <td>http://www.zillow.com/homedetails/13014-60th-A...</td>\n",
       "      <td>64834200</td>\n",
       "      <td>[9, 4, 10]</td>\n",
       "      <td>Off Market</td>\n",
       "    </tr>\n",
       "    <tr>\n",
       "      <th>651</th>\n",
       "      <td>http://www.zillow.com/homedetails/13014-60th-A...</td>\n",
       "      <td>64834200</td>\n",
       "      <td>[9, 4, 10]</td>\n",
       "      <td>Off Market</td>\n",
       "    </tr>\n",
       "    <tr>\n",
       "      <th>652</th>\n",
       "      <td>http://www.zillow.com/homedetails/13508-Booth-...</td>\n",
       "      <td>32063640</td>\n",
       "      <td>[9, 10, 10]</td>\n",
       "      <td>Off Market</td>\n",
       "    </tr>\n",
       "    <tr>\n",
       "      <th>653</th>\n",
       "      <td>http://www.zillow.com/homedetails/13222-58th-R...</td>\n",
       "      <td>32063760</td>\n",
       "      <td>[9, 10, 10]</td>\n",
       "      <td>Off Market</td>\n",
       "    </tr>\n",
       "    <tr>\n",
       "      <th>654</th>\n",
       "      <td>http://www.zillow.com/homedetails/5834-Main-St...</td>\n",
       "      <td>32064088</td>\n",
       "      <td>[9, 10, 10]</td>\n",
       "      <td>Off Market</td>\n",
       "    </tr>\n",
       "    <tr>\n",
       "      <th>655</th>\n",
       "      <td>http://www.zillow.com/homedetails/5836-Main-St...</td>\n",
       "      <td>32064089</td>\n",
       "      <td>[9, 10, 10]</td>\n",
       "      <td>Off Market</td>\n",
       "    </tr>\n",
       "    <tr>\n",
       "      <th>656</th>\n",
       "      <td>http://www.zillow.com/homedetails/5840-Main-St...</td>\n",
       "      <td>32064091</td>\n",
       "      <td>[9, 10, 10]</td>\n",
       "      <td>Off Market</td>\n",
       "    </tr>\n",
       "    <tr>\n",
       "      <th>657</th>\n",
       "      <td>http://www.zillow.com/homedetails/13848-60th-A...</td>\n",
       "      <td>32064187</td>\n",
       "      <td>[9, 10, 10]</td>\n",
       "      <td>Off Market</td>\n",
       "    </tr>\n",
       "    <tr>\n",
       "      <th>658</th>\n",
       "      <td>http://www.zillow.com/homedetails/13912-58th-A...</td>\n",
       "      <td>32064593</td>\n",
       "      <td>[9, 10, 10]</td>\n",
       "      <td>Off Market</td>\n",
       "    </tr>\n",
       "    <tr>\n",
       "      <th>659</th>\n",
       "      <td>http://www.zillow.com/homedetails/14645-58th-R...</td>\n",
       "      <td>32064900</td>\n",
       "      <td>[9, 10, 10]</td>\n",
       "      <td>Off Market</td>\n",
       "    </tr>\n",
       "  </tbody>\n",
       "</table>\n",
       "<p>660 rows × 4 columns</p>\n",
       "</div>"
      ],
      "text/plain": [
       "                                          Zillow Links Zillow ID  \\\n",
       "0    http://www.zillow.com/homedetails/291-Cherry-S...  31495176   \n",
       "1    http://www.zillow.com/homedetails/291-Cherry-S...  31495176   \n",
       "2    http://www.zillow.com/homedetails/291-Cherry-S...  31495176   \n",
       "3    http://www.zillow.com/homedetails/291-Cherry-S...  31495176   \n",
       "4    http://www.zillow.com/homedetails/291-Cherry-S...  31495176   \n",
       "5    http://www.zillow.com/homedetails/291-Cherry-S...  31495176   \n",
       "6    http://www.zillow.com/homedetails/291-Cherry-S...  31495176   \n",
       "7    http://www.zillow.com/homedetails/291-Cherry-S...  31495176   \n",
       "8    http://www.zillow.com/homedetails/305-Cherry-S...  31495191   \n",
       "9    http://www.zillow.com/homedetails/305-Cherry-S...  31495191   \n",
       "10   http://www.zillow.com/homedetails/305-Cherry-S...  31495191   \n",
       "11   http://www.zillow.com/homedetails/305-Cherry-S...  31495191   \n",
       "12   http://www.zillow.com/homedetails/305-Cherry-S...  31495191   \n",
       "13   http://www.zillow.com/homedetails/305-Cherry-S...  31495191   \n",
       "14   http://www.zillow.com/homedetails/305-Cherry-S...  31495191   \n",
       "15   http://www.zillow.com/homedetails/305-Cherry-S...  31495191   \n",
       "16   http://www.zillow.com/homedetails/253-Clinton-...  31495215   \n",
       "17   http://www.zillow.com/homedetails/253-Clinton-...  31495215   \n",
       "18   http://www.zillow.com/homedetails/253-Clinton-...  31495215   \n",
       "19   http://www.zillow.com/homedetails/253-Clinton-...  31495215   \n",
       "20   http://www.zillow.com/homedetails/253-Clinton-...  31495215   \n",
       "21   http://www.zillow.com/homedetails/255-Clinton-...  31495220   \n",
       "22   http://www.zillow.com/homedetails/253-Clinton-...  31495215   \n",
       "23   http://www.zillow.com/homedetails/253-Clinton-...  31495215   \n",
       "24   http://www.zillow.com/homedetails/253-Clinton-...  31495215   \n",
       "25   http://www.zillow.com/homedetails/253-Clinton-...  31495215   \n",
       "26   http://www.zillow.com/homedetails/253-Clinton-...  31495215   \n",
       "27   http://www.zillow.com/homedetails/253-Clinton-...  31495215   \n",
       "28   http://www.zillow.com/homedetails/251-Clinton-...  31495227   \n",
       "29   http://www.zillow.com/homedetails/253-Clinton-...  31495215   \n",
       "..                                                 ...       ...   \n",
       "630  http://www.zillow.com/homedetails/15129-34th-A...  32043063   \n",
       "631  http://www.zillow.com/homedetails/15125-34th-A...  32043064   \n",
       "632  http://www.zillow.com/homedetails/3504-154th-S...  32043907   \n",
       "633  http://www.zillow.com/homedetails/3508-154th-S...  32043908   \n",
       "634  http://www.zillow.com/homedetails/3502-154th-S...  32043915   \n",
       "635  http://www.zillow.com/homedetails/3506-154th-S...  32043916   \n",
       "636  http://www.zillow.com/homedetails/3510-154th-S...  32043917   \n",
       "637  http://www.zillow.com/homedetails/14710-45th-A...  32047483   \n",
       "638  http://www.zillow.com/homedetails/14712-45th-A...  32047484   \n",
       "639  http://www.zillow.com/homedetails/14714-45th-A...  32047485   \n",
       "640  http://www.zillow.com/homedetails/14716-45th-A...  32047486   \n",
       "641  http://www.zillow.com/homedetails/14718-45th-A...  32047487   \n",
       "642  http://www.zillow.com/homedetails/14719-Hawtho...  32047504   \n",
       "643  http://www.zillow.com/homedetails/4525-Parsons...  32047509   \n",
       "644  http://www.zillow.com/homedetails/4523-Parsons...  32047510   \n",
       "645  http://www.zillow.com/homedetails/4521-Parsons...  32047511   \n",
       "646  http://www.zillow.com/homedetails/15715-46th-A...  32047723   \n",
       "647  http://www.zillow.com/homedetails/13037-58th-R...  32063449   \n",
       "648  http://www.zillow.com/homedetails/13014-60th-A...  64834200   \n",
       "649  http://www.zillow.com/homedetails/13014-60th-A...  64834200   \n",
       "650  http://www.zillow.com/homedetails/13014-60th-A...  64834200   \n",
       "651  http://www.zillow.com/homedetails/13014-60th-A...  64834200   \n",
       "652  http://www.zillow.com/homedetails/13508-Booth-...  32063640   \n",
       "653  http://www.zillow.com/homedetails/13222-58th-R...  32063760   \n",
       "654  http://www.zillow.com/homedetails/5834-Main-St...  32064088   \n",
       "655  http://www.zillow.com/homedetails/5836-Main-St...  32064089   \n",
       "656  http://www.zillow.com/homedetails/5840-Main-St...  32064091   \n",
       "657  http://www.zillow.com/homedetails/13848-60th-A...  32064187   \n",
       "658  http://www.zillow.com/homedetails/13912-58th-A...  32064593   \n",
       "659  http://www.zillow.com/homedetails/14645-58th-R...  32064900   \n",
       "\n",
       "    School Rating      Status  \n",
       "0     [10, 10, 9]  Off Market  \n",
       "1     [10, 10, 9]  Off Market  \n",
       "2     [10, 10, 9]  Off Market  \n",
       "3     [10, 10, 9]  Off Market  \n",
       "4     [10, 10, 9]  Off Market  \n",
       "5     [10, 10, 9]  Off Market  \n",
       "6     [10, 10, 9]  Off Market  \n",
       "7     [10, 10, 9]  Off Market  \n",
       "8     [10, 10, 9]  Off Market  \n",
       "9     [10, 10, 9]  Off Market  \n",
       "10    [10, 10, 9]  Off Market  \n",
       "11    [10, 10, 9]  Off Market  \n",
       "12    [10, 10, 9]  Off Market  \n",
       "13    [10, 10, 9]  Off Market  \n",
       "14    [10, 10, 9]  Off Market  \n",
       "15    [10, 10, 9]  Off Market  \n",
       "16    [10, 10, 9]  Off Market  \n",
       "17    [10, 10, 9]  Off Market  \n",
       "18    [10, 10, 9]  Off Market  \n",
       "19    [10, 10, 9]  Off Market  \n",
       "20    [10, 10, 9]  Off Market  \n",
       "21    [10, 10, 9]        Sold  \n",
       "22    [10, 10, 9]  Off Market  \n",
       "23    [10, 10, 9]  Off Market  \n",
       "24    [10, 10, 9]  Off Market  \n",
       "25    [10, 10, 9]  Off Market  \n",
       "26    [10, 10, 9]  Off Market  \n",
       "27    [10, 10, 9]  Off Market  \n",
       "28    [10, 10, 9]  Off Market  \n",
       "29    [10, 10, 9]  Off Market  \n",
       "..            ...         ...  \n",
       "630     [9, 8, 3]        Sold  \n",
       "631     [9, 8, 3]        Sold  \n",
       "632     [9, 8, 3]  Off Market  \n",
       "633     [9, 8, 3]  Off Market  \n",
       "634     [9, 8, 3]  Off Market  \n",
       "635     [9, 8, 3]  Off Market  \n",
       "636     [9, 8, 3]  Off Market  \n",
       "637     [9, 8, 3]  Off Market  \n",
       "638     [9, 8, 3]  Off Market  \n",
       "639     [9, 8, 3]  Off Market  \n",
       "640     [9, 8, 3]  Off Market  \n",
       "641     [9, 8, 3]  Off Market  \n",
       "642     [9, 8, 2]  Off Market  \n",
       "643     [9, 8, 3]  Off Market  \n",
       "644     [9, 8, 3]  Off Market  \n",
       "645     [9, 8, 3]  Off Market  \n",
       "646     [9, 2, 9]        Sold  \n",
       "647    [9, 4, 10]  Off Market  \n",
       "648    [9, 4, 10]  Off Market  \n",
       "649    [9, 4, 10]  Off Market  \n",
       "650    [9, 4, 10]  Off Market  \n",
       "651    [9, 4, 10]  Off Market  \n",
       "652   [9, 10, 10]  Off Market  \n",
       "653   [9, 10, 10]  Off Market  \n",
       "654   [9, 10, 10]  Off Market  \n",
       "655   [9, 10, 10]  Off Market  \n",
       "656   [9, 10, 10]  Off Market  \n",
       "657   [9, 10, 10]  Off Market  \n",
       "658   [9, 10, 10]  Off Market  \n",
       "659   [9, 10, 10]  Off Market  \n",
       "\n",
       "[660 rows x 4 columns]"
      ]
     },
     "execution_count": 25,
     "metadata": {},
     "output_type": "execute_result"
    }
   ],
   "source": [
    "links"
   ]
  },
  {
   "cell_type": "code",
   "execution_count": 26,
   "metadata": {
    "collapsed": true
   },
   "outputs": [],
   "source": [
    "#save the zillow results in a csv\n",
    "today_date = time.strftime(\"%d_%m_%Y\")\n",
    "links\n",
    "filename = 'Zillow' + today_date + '.csv'\n",
    "links.to_csv(filename)"
   ]
  },
  {
   "cell_type": "code",
   "execution_count": 27,
   "metadata": {
    "collapsed": false
   },
   "outputs": [],
   "source": [
    "links_sale = links.loc[links['Status'] == 'For Sale']"
   ]
  },
  {
   "cell_type": "code",
   "execution_count": 28,
   "metadata": {
    "collapsed": false
   },
   "outputs": [
    {
     "name": "stdout",
     "output_type": "stream",
     "text": [
      "http://www.zillow.com/homedetails/115-Bay-Ridge-Ave-Brooklyn-NY-11220/30691966_zpid/\n",
      "http://www.zillow.com/homedetails/26-Bay-Ridge-Ave-APT-3C-Brooklyn-NY-11220/62648722_zpid/\n",
      "http://www.zillow.com/homedetails/8849-18th-Ave-Brooklyn-NY-11214/30715080_zpid/\n",
      "http://www.zillow.com/homedetails/124-Bay-34-St-Brooklyn-NY-11214/2097991146_zpid/\n",
      "http://www.zillow.com/homedetails/124-Bay-34-St-Brooklyn-NY-11214/2097991146_zpid/\n",
      "http://www.zillow.com/homedetails/162-Bay-43-St-1A-Brooklyn-NY-11214/2102152090_zpid/\n",
      "http://www.zillow.com/homedetails/162-Bay-43-St-1A-Brooklyn-NY-11214/2102152090_zpid/\n",
      "http://www.zillow.com/homedetails/162-Bay-43-St-1A-Brooklyn-NY-11214/2102152090_zpid/\n",
      "http://www.zillow.com/homedetails/26-28-Bay-50th-Street-Unit-3b-FL-3-Brooklyn-NY-11214/2098693241_zpid/\n",
      "http://www.zillow.com/homedetails/222-Bay-44th-St-222A-Brooklyn-NY-11214/2097885684_zpid/\n",
      "http://www.zillow.com/homedetails/222-Bay-44th-St-222A-Brooklyn-NY-11214/2097885684_zpid/\n"
     ]
    }
   ],
   "source": [
    "for i in links_sale['Zillow Links']:\n",
    "    print i"
   ]
  },
  {
   "cell_type": "code",
   "execution_count": 33,
   "metadata": {
    "collapsed": false
   },
   "outputs": [
    {
     "data": {
      "text/html": [
       "<div>\n",
       "<table border=\"1\" class=\"dataframe\">\n",
       "  <thead>\n",
       "    <tr style=\"text-align: right;\">\n",
       "      <th></th>\n",
       "      <th>Zillow Links</th>\n",
       "      <th>Zillow ID</th>\n",
       "      <th>School Rating</th>\n",
       "      <th>Status</th>\n",
       "      <th>Interest</th>\n",
       "    </tr>\n",
       "  </thead>\n",
       "  <tbody>\n",
       "    <tr>\n",
       "      <th>163</th>\n",
       "      <td>http://www.zillow.com/homedetails/115-Bay-Ridg...</td>\n",
       "      <td>30691966</td>\n",
       "      <td>[8, 3, 5]</td>\n",
       "      <td>For Sale</td>\n",
       "      <td>No</td>\n",
       "    </tr>\n",
       "    <tr>\n",
       "      <th>170</th>\n",
       "      <td>http://www.zillow.com/homedetails/26-Bay-Ridge...</td>\n",
       "      <td>62648722</td>\n",
       "      <td>[9, 7, 5]</td>\n",
       "      <td>For Sale</td>\n",
       "      <td>Yes</td>\n",
       "    </tr>\n",
       "    <tr>\n",
       "      <th>340</th>\n",
       "      <td>http://www.zillow.com/homedetails/8849-18th-Av...</td>\n",
       "      <td>30715080</td>\n",
       "      <td>[3, 5, 10]</td>\n",
       "      <td>For Sale</td>\n",
       "      <td>No</td>\n",
       "    </tr>\n",
       "    <tr>\n",
       "      <th>365</th>\n",
       "      <td>http://www.zillow.com/homedetails/124-Bay-34-S...</td>\n",
       "      <td>2097991146</td>\n",
       "      <td>[10, 8, 7]</td>\n",
       "      <td>For Sale</td>\n",
       "      <td>No</td>\n",
       "    </tr>\n",
       "    <tr>\n",
       "      <th>366</th>\n",
       "      <td>http://www.zillow.com/homedetails/124-Bay-34-S...</td>\n",
       "      <td>2097991146</td>\n",
       "      <td>[10, 8, 7]</td>\n",
       "      <td>For Sale</td>\n",
       "      <td>No</td>\n",
       "    </tr>\n",
       "    <tr>\n",
       "      <th>367</th>\n",
       "      <td>http://www.zillow.com/homedetails/162-Bay-43-S...</td>\n",
       "      <td>2102152090</td>\n",
       "      <td>[10, 10, 7]</td>\n",
       "      <td>For Sale</td>\n",
       "      <td>Yes</td>\n",
       "    </tr>\n",
       "    <tr>\n",
       "      <th>368</th>\n",
       "      <td>http://www.zillow.com/homedetails/162-Bay-43-S...</td>\n",
       "      <td>2102152090</td>\n",
       "      <td>[10, 10, 7]</td>\n",
       "      <td>For Sale</td>\n",
       "      <td>No</td>\n",
       "    </tr>\n",
       "    <tr>\n",
       "      <th>369</th>\n",
       "      <td>http://www.zillow.com/homedetails/162-Bay-43-S...</td>\n",
       "      <td>2102152090</td>\n",
       "      <td>[10, 10, 7]</td>\n",
       "      <td>For Sale</td>\n",
       "      <td>No</td>\n",
       "    </tr>\n",
       "    <tr>\n",
       "      <th>386</th>\n",
       "      <td>http://www.zillow.com/homedetails/26-28-Bay-50...</td>\n",
       "      <td>2098693241</td>\n",
       "      <td>[8, 10, 7]</td>\n",
       "      <td>For Sale</td>\n",
       "      <td>Yes</td>\n",
       "    </tr>\n",
       "    <tr>\n",
       "      <th>399</th>\n",
       "      <td>http://www.zillow.com/homedetails/222-Bay-44th...</td>\n",
       "      <td>2097885684</td>\n",
       "      <td>[8, 10, 7]</td>\n",
       "      <td>For Sale</td>\n",
       "      <td>Yes</td>\n",
       "    </tr>\n",
       "    <tr>\n",
       "      <th>400</th>\n",
       "      <td>http://www.zillow.com/homedetails/222-Bay-44th...</td>\n",
       "      <td>2097885684</td>\n",
       "      <td>[8, 10, 7]</td>\n",
       "      <td>For Sale</td>\n",
       "      <td>No</td>\n",
       "    </tr>\n",
       "  </tbody>\n",
       "</table>\n",
       "</div>"
      ],
      "text/plain": [
       "                                          Zillow Links   Zillow ID  \\\n",
       "163  http://www.zillow.com/homedetails/115-Bay-Ridg...    30691966   \n",
       "170  http://www.zillow.com/homedetails/26-Bay-Ridge...    62648722   \n",
       "340  http://www.zillow.com/homedetails/8849-18th-Av...    30715080   \n",
       "365  http://www.zillow.com/homedetails/124-Bay-34-S...  2097991146   \n",
       "366  http://www.zillow.com/homedetails/124-Bay-34-S...  2097991146   \n",
       "367  http://www.zillow.com/homedetails/162-Bay-43-S...  2102152090   \n",
       "368  http://www.zillow.com/homedetails/162-Bay-43-S...  2102152090   \n",
       "369  http://www.zillow.com/homedetails/162-Bay-43-S...  2102152090   \n",
       "386  http://www.zillow.com/homedetails/26-28-Bay-50...  2098693241   \n",
       "399  http://www.zillow.com/homedetails/222-Bay-44th...  2097885684   \n",
       "400  http://www.zillow.com/homedetails/222-Bay-44th...  2097885684   \n",
       "\n",
       "    School Rating    Status Interest  \n",
       "163     [8, 3, 5]  For Sale       No  \n",
       "170     [9, 7, 5]  For Sale      Yes  \n",
       "340    [3, 5, 10]  For Sale       No  \n",
       "365    [10, 8, 7]  For Sale       No  \n",
       "366    [10, 8, 7]  For Sale       No  \n",
       "367   [10, 10, 7]  For Sale      Yes  \n",
       "368   [10, 10, 7]  For Sale       No  \n",
       "369   [10, 10, 7]  For Sale       No  \n",
       "386    [8, 10, 7]  For Sale      Yes  \n",
       "399    [8, 10, 7]  For Sale      Yes  \n",
       "400    [8, 10, 7]  For Sale       No  "
      ]
     },
     "execution_count": 33,
     "metadata": {},
     "output_type": "execute_result"
    }
   ],
   "source": [
    "links_sale"
   ]
  },
  {
   "cell_type": "markdown",
   "metadata": {},
   "source": [
    "Future look into the links eliminated some choices based on \"On Sale\" price of the property and nearby schools. Then I can go look at these places and see if I like any of them."
   ]
  },
  {
   "cell_type": "markdown",
   "metadata": {},
   "source": [
    "# Result"
   ]
  },
  {
   "cell_type": "markdown",
   "metadata": {},
   "source": [
    "This is the result using current criteria. If this property is not of interest, I will need to relax other criteris (e.g. more zip codes) to find a more appropriate place to live."
   ]
  },
  {
   "cell_type": "markdown",
   "metadata": {},
   "source": [
    "Future work:\n",
    "1. Cross check properties with nearby restaurant ratings using yelp data\n",
    "2. Scrap transport rating of the property on each zillow page\n",
    "3. Scrap greatschool.org to circumvent zillow's 1000 request per day limit for school data"
   ]
  },
  {
   "cell_type": "markdown",
   "metadata": {},
   "source": [
    "This later work include import of Yelp data from:\n",
    "https://www.yelp.com/dataset_challenge/dataset"
   ]
  },
  {
   "cell_type": "markdown",
   "metadata": {
    "collapsed": true
   },
   "source": [
    "## Continuation"
   ]
  },
  {
   "cell_type": "markdown",
   "metadata": {},
   "source": [
    "Use Yelp API to find restaurants and other activities close by. Unfortunately Yelp API only return 20 result for each request. And the maximum is 1000 total responses. This is not bad for small towns, but NYC have 3624 Chinese restaurants (indicated in the 'total' field). So we need to find all of them if possbile."
   ]
  },
  {
   "cell_type": "markdown",
   "metadata": {},
   "source": [
    "Load the offical Yelp API for requesting data"
   ]
  },
  {
   "cell_type": "code",
   "execution_count": 35,
   "metadata": {
    "collapsed": false,
    "scrolled": true
   },
   "outputs": [],
   "source": [
    "from yelp.client import Client\n",
    "from yelp.oauth1_authenticator import Oauth1Authenticator\n",
    "\n",
    "# read API keys\n",
    "with io.open('config_secret.json') as cred:\n",
    "    creds = json.load(cred)\n",
    "    auth = Oauth1Authenticator(**creds)\n",
    "    client = Client(auth)"
   ]
  },
  {
   "cell_type": "code",
   "execution_count": 36,
   "metadata": {
    "collapsed": false
   },
   "outputs": [],
   "source": [
    "# set parameters to be Chinese Restaurants\n",
    "params = {\n",
    "    'term': 'restaurants',\n",
    "    'category_filter': cusine.lower(),\n",
    "    'location': 'New York, NY',\n",
    "    'sort': '0',\n",
    "    'offset': '0'\n",
    "}\n",
    "\n",
    "response = client.search(**params)"
   ]
  },
  {
   "cell_type": "code",
   "execution_count": 37,
   "metadata": {
    "collapsed": true
   },
   "outputs": [],
   "source": [
    "# find the total number of results\n",
    "yelp_counter = response.total"
   ]
  },
  {
   "cell_type": "code",
   "execution_count": 38,
   "metadata": {
    "collapsed": false
   },
   "outputs": [],
   "source": [
    "yelp_responses = []\n",
    "# find the number of request or offset needed to get all responses\n",
    "request_count = response.total / 20"
   ]
  },
  {
   "cell_type": "code",
   "execution_count": 39,
   "metadata": {
    "collapsed": false
   },
   "outputs": [
    {
     "data": {
      "text/plain": [
       "182"
      ]
     },
     "execution_count": 39,
     "metadata": {},
     "output_type": "execute_result"
    }
   ],
   "source": [
    "request_count"
   ]
  },
  {
   "cell_type": "code",
   "execution_count": 40,
   "metadata": {
    "collapsed": false
   },
   "outputs": [],
   "source": [
    "# loop until get all responses by offset\n",
    "get_counter = 0\n",
    "while (get_counter < request_count):\n",
    "    # set parameters to be Chinese Restaurants\n",
    "    params = {\n",
    "        'term': 'restaurants',\n",
    "        'category_filter': cusine.lower(),\n",
    "        'location': 'New York, NY',\n",
    "        'sort': '0',\n",
    "        'offset': str(get_counter * 20)\n",
    "    }\n",
    "    response = client.search(**params)\n",
    "    yelp_responses.append(response)\n",
    "    get_counter += 1\n",
    "    \n",
    "    # maximum 1000 respones\n",
    "    if (get_counter == 50):\n",
    "        break"
   ]
  },
  {
   "cell_type": "code",
   "execution_count": null,
   "metadata": {
    "collapsed": false
   },
   "outputs": [],
   "source": []
  },
  {
   "cell_type": "code",
   "execution_count": 41,
   "metadata": {
    "collapsed": false
   },
   "outputs": [],
   "source": [
    "# test to see if the business name make sense\n",
    "# yelp_responses[179].businesses[0].name"
   ]
  },
  {
   "cell_type": "code",
   "execution_count": 42,
   "metadata": {
    "collapsed": false
   },
   "outputs": [],
   "source": [
    "# loop through each list of yelp.responses and each business in each responese\n",
    "yelp_names = []\n",
    "yelp_rating = []\n",
    "yelp_zipcode = []\n",
    "for i in yelp_responses:\n",
    "    for j in i.businesses:\n",
    "        yelp_names.append(j.name)\n",
    "        yelp_rating.append(j.rating)\n",
    "        yelp_zipcode.append(j.location.postal_code)"
   ]
  },
  {
   "cell_type": "code",
   "execution_count": 43,
   "metadata": {
    "collapsed": false
   },
   "outputs": [],
   "source": [
    "# make a dataframe out of the info\n",
    "yelp_data = pd.DataFrame(list(yelp_names))\n",
    "yelp_data.columns=['Restaurant name']\n",
    "yelp_data['ratings'] = yelp_rating\n",
    "yelp_data['zipcode'] = yelp_zipcode"
   ]
  },
  {
   "cell_type": "code",
   "execution_count": null,
   "metadata": {
    "collapsed": false
   },
   "outputs": [],
   "source": []
  },
  {
   "cell_type": "code",
   "execution_count": null,
   "metadata": {
    "collapsed": false
   },
   "outputs": [],
   "source": []
  },
  {
   "cell_type": "code",
   "execution_count": 44,
   "metadata": {
    "collapsed": false
   },
   "outputs": [],
   "source": [
    "# group by zipcode, find the average ratings and count of restaurants per zipcode\n",
    "count_by_zip = yelp_data.groupby(by=['zipcode'])['ratings'].count()\n",
    "rating_by_zip = yelp_data.groupby(by=['zipcode'])['ratings'].mean()"
   ]
  },
  {
   "cell_type": "code",
   "execution_count": 45,
   "metadata": {
    "collapsed": false
   },
   "outputs": [],
   "source": [
    "# make a dataframe out of the info\n",
    "yelp_cm = pd.DataFrame(list(count_by_zip))\n",
    "yelp_cm.columns=['Count']\n",
    "yelp_cm['Average Rating'] = list(rating_by_zip)"
   ]
  },
  {
   "cell_type": "code",
   "execution_count": 46,
   "metadata": {
    "collapsed": false
   },
   "outputs": [
    {
     "data": {
      "text/plain": [
       "<matplotlib.text.Text at 0x15433550>"
      ]
     },
     "execution_count": 46,
     "metadata": {},
     "output_type": "execute_result"
    },
    {
     "data": {
      "image/png": "[encoded data removed]",
      "text/plain": [
       "<matplotlib.figure.Figure at 0x1543d3c8>"
      ]
     },
     "metadata": {},
     "output_type": "display_data"
    }
   ],
   "source": [
    "# graph the # of restaurants vs rating\n",
    "sns.plt.scatter(yelp_cm['Average Rating'], yelp_cm['Count'])\n",
    "sns.plt.xlabel('Average Rating')\n",
    "sns.plt.ylabel('Number of Restaurants per zipcode')"
   ]
  },
  {
   "cell_type": "markdown",
   "metadata": {
    "collapsed": false
   },
   "source": [
    "This data is not as complete as the health inspection data because Yelp have a 1000 places limit"
   ]
  },
  {
   "cell_type": "code",
   "execution_count": null,
   "metadata": {
    "collapsed": false
   },
   "outputs": [],
   "source": []
  },
  {
   "cell_type": "markdown",
   "metadata": {
    "collapsed": false
   },
   "source": [
    "#Exploring appraisal data"
   ]
  },
  {
   "cell_type": "markdown",
   "metadata": {},
   "source": [
    "Here we just exploring the data and see if we can find out some interesting things about the data."
   ]
  },
  {
   "cell_type": "code",
   "execution_count": 67,
   "metadata": {
    "collapsed": false
   },
   "outputs": [
    {
     "data": {
      "text/plain": [
       "(0, 1000000)"
      ]
     },
     "execution_count": 67,
     "metadata": {},
     "output_type": "execute_result"
    },
    {
     "data": {
      "image/png": "[encoded data removed]",
      "text/plain": [
       "<matplotlib.figure.Figure at 0x14b94518>"
      ]
     },
     "metadata": {},
     "output_type": "display_data"
    }
   ],
   "source": [
    "# clearn zip code that doesn't make sense\n",
    "cleaned_data = data.loc[data['ZIP'] < 15000]\n",
    "cleaned_data = cleaned_data.loc[cleaned_data['ZIP'] > 10000]\n",
    "\n",
    "# look at house price between 100,000 and 1 million\n",
    "price_range = cleaned_data.loc[cleaned_data['CUR_FV_T'] < 1000000]\n",
    "price_range = price_range.loc[price_range['CUR_FV_T'] > 100000]\n",
    "sns.distplot(price_range['CUR_FV_T'], kde=False)\n",
    "sns.plt.xlim((0, 1000000))\n",
    "#sns.plt.ylim((0, 50))\n",
    "# most houses are between $300,000 and $800,000"
   ]
  },
  {
   "cell_type": "markdown",
   "metadata": {},
   "source": [
    "The propery price is shifted to the left, with most of the properties around 400,000 to 600,000. There is a long tail on the right with a few of the properties above the million dollar range. "
   ]
  },
  {
   "cell_type": "code",
   "execution_count": 68,
   "metadata": {
    "collapsed": false
   },
   "outputs": [
    {
     "data": {
      "text/plain": [
       "<matplotlib.axes._subplots.AxesSubplot at 0x20b93828>"
      ]
     },
     "execution_count": 68,
     "metadata": {},
     "output_type": "execute_result"
    },
    {
     "data": {
      "image/png": "[encoded data removed]",
      "text/plain": [
       "<matplotlib.figure.Figure at 0x14b922b0>"
      ]
     },
     "metadata": {},
     "output_type": "display_data"
    }
   ],
   "source": [
    "# find built year distribution\n",
    "year_built = price_range.loc[price_range['YRB'] < 2015]\n",
    "year_built = year_built.loc[year_built['YRB'] > 1900]\n",
    "sns.distplot(year_built['YRB'])"
   ]
  },
  {
   "cell_type": "markdown",
   "metadata": {},
   "source": [
    "Where as built year is continous after about 1980, built year between 1900 and 1980 always have a huge gap in between. It is either due to record keeping, or could be some other reason that resulted in this. Superfacial search on google showed the record keeping have may errors and these years are just an estimate.  "
   ]
  },
  {
   "cell_type": "code",
   "execution_count": null,
   "metadata": {
    "collapsed": false
   },
   "outputs": [],
   "source": []
  },
  {
   "cell_type": "markdown",
   "metadata": {},
   "source": [
    "#Machine Learning parts"
   ]
  },
  {
   "cell_type": "markdown",
   "metadata": {},
   "source": [
    "Used some machine learning to figure out what determine the price of a house. And see if realtors and estimate the price of a property based on available information. So the realtor have some idea of the appraised value of the property. This may be a different than the listing price, but it serves as a baseline.  "
   ]
  },
  {
   "cell_type": "code",
   "execution_count": null,
   "metadata": {
    "collapsed": false
   },
   "outputs": [],
   "source": []
  },
  {
   "cell_type": "code",
   "execution_count": 42,
   "metadata": {
    "collapsed": false
   },
   "outputs": [],
   "source": [
    "# only get numeric and drop NaN columns\n",
    "num_data = data._get_numeric_data()\n",
    "num_data=num_data.dropna(axis=1,how='any')"
   ]
  },
  {
   "cell_type": "code",
   "execution_count": 44,
   "metadata": {
    "collapsed": false
   },
   "outputs": [],
   "source": [
    "from sklearn.linear_model import LinearRegression"
   ]
  },
  {
   "cell_type": "code",
   "execution_count": 43,
   "metadata": {
    "collapsed": true
   },
   "outputs": [],
   "source": [
    "from sklearn.cross_validation import train_test_split\n",
    "\n",
    "X = num_data.drop('CUR_FV_T', axis=1)\n",
    "y = num_data.CUR_FV_T #use current value as label\n",
    "X_train, X_test, y_train, y_test = train_test_split(X, y, test_size=0.2)"
   ]
  },
  {
   "cell_type": "code",
   "execution_count": 51,
   "metadata": {
    "collapsed": false,
    "scrolled": true
   },
   "outputs": [
    {
     "data": {
      "text/plain": [
       "KNeighborsRegressor(algorithm='auto', leaf_size=30, metric='minkowski',\n",
       "          metric_params=None, n_jobs=1, n_neighbors=3, p=2,\n",
       "          weights='uniform')"
      ]
     },
     "execution_count": 51,
     "metadata": {},
     "output_type": "execute_result"
    }
   ],
   "source": [
    "# use KNN to fit the data\n",
    "from sklearn.neighbors import KNeighborsRegressor\n",
    "\n",
    "knn_model = KNeighborsRegressor(n_neighbors=3)\n",
    "knn_model.fit(X_train, y_train)"
   ]
  },
  {
   "cell_type": "code",
   "execution_count": 52,
   "metadata": {
    "collapsed": false
   },
   "outputs": [
    {
     "name": "stdout",
     "output_type": "stream",
     "text": [
      "Average loss: 1.0423180902e+17\n",
      "KNN loss: 5.04650112863e+15\n",
      "Variation explained:  95.1583866997 %\n"
     ]
    }
   ],
   "source": [
    "knn_y = knn_model.predict(X_test)\n",
    "\n",
    "knn_sum_squares = ((knn_y - y_test) ** 2).sum()\n",
    "mean_sum_squares = ((y_test.mean() - y_test) ** 2).sum()\n",
    "\n",
    "print \"Average loss:\", mean_sum_squares\n",
    "print \"KNN loss:\", knn_sum_squares\n",
    "print \"Variation explained: \", 100 * (1 - knn_sum_squares / mean_sum_squares), \"%\""
   ]
  },
  {
   "cell_type": "code",
   "execution_count": 53,
   "metadata": {
    "collapsed": false
   },
   "outputs": [
    {
     "name": "stdout",
     "output_type": "stream",
     "text": [
      "R^2:  0.951583866997\n"
     ]
    }
   ],
   "source": [
    "print \"R^2: \", knn_model.score(X_test, y_test)"
   ]
  },
  {
   "cell_type": "code",
   "execution_count": 47,
   "metadata": {
    "collapsed": false
   },
   "outputs": [
    {
     "data": {
      "text/plain": [
       "LinearRegression(copy_X=True, fit_intercept=True, n_jobs=1, normalize=False)"
      ]
     },
     "execution_count": 47,
     "metadata": {},
     "output_type": "execute_result"
    }
   ],
   "source": [
    "# use GLM to fit the data\n",
    "\n",
    "linear_model = LinearRegression()\n",
    "linear_model.fit(X_train, y_train)"
   ]
  },
  {
   "cell_type": "code",
   "execution_count": 48,
   "metadata": {
    "collapsed": false
   },
   "outputs": [
    {
     "name": "stdout",
     "output_type": "stream",
     "text": [
      "0.995383851577\n"
     ]
    }
   ],
   "source": [
    "print linear_model.score(X_test, y_test)"
   ]
  },
  {
   "cell_type": "code",
   "execution_count": 54,
   "metadata": {
    "collapsed": false
   },
   "outputs": [
    {
     "data": {
      "image/png": "[encoded data removed]",
      "text/plain": [
       "<matplotlib.figure.Figure at 0x2239a710>"
      ]
     },
     "metadata": {},
     "output_type": "display_data"
    },
    {
     "data": {
      "image/png": "[encoded data removed]",
      "text/plain": [
       "<matplotlib.figure.Figure at 0x223ccef0>"
      ]
     },
     "metadata": {},
     "output_type": "display_data"
    }
   ],
   "source": [
    "# compare KNN and GLM\n",
    "sns.plt.scatter(y_test, knn_model.predict(X_test))\n",
    "sns.plt.title('KNN Prediction Analysis')\n",
    "sns.plt.xlabel('Real Value')\n",
    "sns.plt.ylabel('Prediction')\n",
    "plt.show()\n",
    "\n",
    "sns.plt.scatter(y_test, linear_model.predict(X_test))\n",
    "sns.plt.title('Linear Regression Prediction Analysis')\n",
    "sns.plt.xlabel('Real Value')\n",
    "sns.plt.ylabel('Prediction')\n",
    "plt.show()"
   ]
  },
  {
   "cell_type": "code",
   "execution_count": 45,
   "metadata": {
    "collapsed": false
   },
   "outputs": [
    {
     "data": {
      "text/plain": [
       "0.99538385157675158"
      ]
     },
     "execution_count": 45,
     "metadata": {},
     "output_type": "execute_result"
    }
   ],
   "source": [
    "# use Pipeline to run preprocessing and GLM together\n",
    "\n",
    "from sklearn.pipeline import Pipeline, make_pipeline\n",
    "from sklearn.preprocessing import StandardScaler\n",
    "pipeline = make_pipeline(StandardScaler(), LinearRegression())\n",
    "pipeline.fit(X_train, y_train)\n",
    "pipeline.score(X_test, y_test)"
   ]
  },
  {
   "cell_type": "code",
   "execution_count": 46,
   "metadata": {
    "collapsed": false
   },
   "outputs": [
    {
     "data": {
      "image/png": "[encoded data removed]",
      "text/plain": [
       "<matplotlib.figure.Figure at 0x600f518>"
      ]
     },
     "metadata": {},
     "output_type": "display_data"
    }
   ],
   "source": [
    "sns.plt.scatter(y_test, pipeline.predict(X_test))\n",
    "sns.plt.title('Linear Regression Prediction Analysis')\n",
    "sns.plt.xlabel('Real Value')\n",
    "sns.plt.ylabel('Prediction')\n",
    "plt.show()"
   ]
  },
  {
   "cell_type": "markdown",
   "metadata": {},
   "source": [
    "GLM resulted in the best predition, and it's a lot faster than KNN. Now if we have all the information, then we could estimate the appraisal value of the property. It also indicate that there is a formula for appraisal and we can probably find the formula for future use. "
   ]
  },
  {
   "cell_type": "code",
   "execution_count": null,
   "metadata": {
    "collapsed": true
   },
   "outputs": [],
   "source": []
  }
 ],
 "metadata": {
  "kernelspec": {
   "display_name": "Python 2",
   "language": "python",
   "name": "python2"
  },
  "language_info": {
   "codemirror_mode": {
    "name": "ipython",
    "version": 2
   },
   "file_extension": ".py",
   "mimetype": "text/x-python",
   "name": "python",
   "nbconvert_exporter": "python",
   "pygments_lexer": "ipython2",
   "version": "2.7.10"
  }
 },
 "nbformat": 4,
 "nbformat_minor": 0
}
