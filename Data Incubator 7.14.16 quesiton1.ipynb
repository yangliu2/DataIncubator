{
 "cells": [
  {
   "cell_type": "code",
   "execution_count": 172,
   "metadata": {
    "collapsed": false
   },
   "outputs": [
    {
     "name": "stdout",
     "output_type": "stream",
     "text": [
      "probability of divisible by 5 given it is divisible by 7 0.0430386164549\n",
      "511.248926854\n",
      "295.560674311\n"
     ]
    }
   ],
   "source": [
    "import random\n",
    "import numpy as np\n",
    "\n",
    "# class for each postion on the keypad\n",
    "class Key:\n",
    "    def __init__(self, name, value, moves):\n",
    "        self.name = name\n",
    "        self.value = value\n",
    "        self.moves = moves\n",
    "\n",
    "#initiallize value for each key and the possible moves\n",
    "one = Key('one', 1, [\"six\", \"seven\"])\n",
    "two = Key('two', 2,[\"seven\", \"nine\"])\n",
    "three = Key('three', 3, [\"four\", \"eight\"])\n",
    "four = Key('four', 4,[\"three\", \"nine\", \"zero\"])\n",
    "# five have no moves, and will not be moved to either\n",
    "six = Key('six', 6,[\"one\", \"seven\", \"zero\"])\n",
    "seven = Key('seven', 7, [\"two\", \"six\"])\n",
    "eight = Key('eight', 8, [\"one\", \"three\"])\n",
    "nine = Key('nine', 9, [\"two\", \"four\"])\n",
    "zero = Key('zero', 0, [\"four\", \"six\"])\n",
    "\n",
    "# dictionary for each key by name\n",
    "dict = {'one': one, 'two':two, 'three':three, 'four':four, 'six':six, 'seven':seven, 'eight':eight, 'nine':nine, 'zero':zero}\n",
    "\n",
    "# initial vairables\n",
    "move_count = 0\n",
    "move_sum = 0;\n",
    "current_pos = zero\n",
    "\n",
    "# move function, re-assign current after moved, tally sum and count, return current position\n",
    "def move(current, count, sum):\n",
    "    movedto = random.randint(0, len(current.moves)-1)\n",
    "    next = current.moves[movedto]\n",
    "    current = dict[next]\n",
    "    count += 1\n",
    "    sum += current.value\n",
    "    return current, count, sum\n",
    "\n",
    "# put all results in list and use numpy to calculate stats\n",
    "list = []\n",
    "by_seven = 0.0\n",
    "by_five = 0.0\n",
    "\n",
    "# repeat 1000 times to get reasonable stats\n",
    "for j in range(1001):\n",
    "    # change the range to either 10 or 1024 according to question\n",
    "    for i in range(1024):\n",
    "        [current_pos, move_count, move_sum] = move(current_pos, move_count, move_sum)\n",
    "        mod = move_sum % 1024\n",
    "        list.append(mod)\n",
    "        \n",
    "        # find probability\n",
    "        if (move_sum % 29 == 0):\n",
    "            by_seven += 1\n",
    "            if (move_sum % 23 == 0):\n",
    "                by_five += 1\n",
    "            \n",
    "print 'probability of divisible by 5 given it is divisible by 7', by_five/by_seven\n",
    "print np.mean(list)\n",
    "# use double precision for standard deviation\n",
    "print np.std(list, dtype=np.float64)"
   ]
  },
  {
   "cell_type": "code",
   "execution_count": 169,
   "metadata": {
    "collapsed": false
   },
   "outputs": [
    {
     "data": {
      "text/plain": [
       "10010"
      ]
     },
     "execution_count": 169,
     "metadata": {},
     "output_type": "execute_result"
    }
   ],
   "source": [
    "len(elements)"
   ]
  },
  {
   "cell_type": "code",
   "execution_count": null,
   "metadata": {
    "collapsed": false
   },
   "outputs": [],
   "source": []
  },
  {
   "cell_type": "code",
   "execution_count": null,
   "metadata": {
    "collapsed": false
   },
   "outputs": [],
   "source": []
  },
  {
   "cell_type": "code",
   "execution_count": null,
   "metadata": {
    "collapsed": true
   },
   "outputs": [],
   "source": []
  }
 ],
 "metadata": {
  "kernelspec": {
   "display_name": "Python 2",
   "language": "python",
   "name": "python2"
  },
  "language_info": {
   "codemirror_mode": {
    "name": "ipython",
    "version": 2
   },
   "file_extension": ".py",
   "mimetype": "text/x-python",
   "name": "python",
   "nbconvert_exporter": "python",
   "pygments_lexer": "ipython2",
   "version": "2.7.10"
  }
 },
 "nbformat": 4,
 "nbformat_minor": 0
}
