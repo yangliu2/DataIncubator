{
 "cells": [
  {
   "cell_type": "code",
   "execution_count": null,
   "metadata": {
    "collapsed": true
   },
   "outputs": [],
   "source": [
    "from operator import add\n",
    "import os\n",
    "from lxml import etree\n",
    "import numpy as np\n",
    "from datetime import datetime\n",
    "from datetime import timedelta"
   ]
  },
  {
   "cell_type": "code",
   "execution_count": null,
   "metadata": {
    "collapsed": false
   },
   "outputs": [],
   "source": [
    "from pyspark import SparkContext\n",
    "sc = SparkContext(\"local[*]\", \"temp\")"
   ]
  },
  {
   "cell_type": "code",
   "execution_count": null,
   "metadata": {
    "collapsed": false
   },
   "outputs": [],
   "source": [
    "def isRecord(line):\n",
    "    if line.startswith(\"  <row\") and line.endswith(\" />\"):\n",
    "        return line"
   ]
  },
  {
   "cell_type": "code",
   "execution_count": null,
   "metadata": {
    "collapsed": true
   },
   "outputs": [],
   "source": [
    "def localpath(path):\n",
    "    return 'file://' + str(os.path.abspath(os.path.curdir)) + '/' + path"
   ]
  },
  {
   "cell_type": "code",
   "execution_count": null,
   "metadata": {
    "collapsed": true
   },
   "outputs": [],
   "source": [
    "# need a special way to pickle classes\n",
    "class Record(object):\n",
    "    def __init__(self, Id, PostId, VoteTypeId):\n",
    "        self.Id = Id\n",
    "        self.PostId = PostId\n",
    "        self.VoteTypeId = VoteTypeId"
   ]
  },
  {
   "cell_type": "code",
   "execution_count": null,
   "metadata": {
    "collapsed": true
   },
   "outputs": [],
   "source": [
    "def parse(line):\n",
    "    \n",
    "    line = line.encode('utf-8')\n",
    "    parser = etree.XMLParser(ns_clean=True, recover=True, encoding='utf-8')\n",
    "    root = etree.fromstring(line, parser=parser)\n",
    "    \n",
    "    VoteId = root.attrib['Id']\n",
    "    PostId = root.attrib['PostId']\n",
    "    VoteType = root.attrib['VoteTypeId']\n",
    "    \n",
    "    # values for [upmod, downmod, favorite]\n",
    "    if VoteType == '2':\n",
    "        output = [1, 0, 0]\n",
    "    elif VoteType == '3':\n",
    "        output = [0, 1, 0]\n",
    "    elif VoteType == '5':\n",
    "        output = [0, 0, 1]\n",
    "    else:\n",
    "        output = [0, 0, 0]\n",
    "    \n",
    "    return PostId, output"
   ]
  },
  {
   "cell_type": "code",
   "execution_count": null,
   "metadata": {
    "collapsed": true
   },
   "outputs": [],
   "source": [
    "def addFavs(x, y):\n",
    "    new_score = map(add, x, y)\n",
    "    return new_score"
   ]
  },
  {
   "cell_type": "code",
   "execution_count": null,
   "metadata": {
    "collapsed": true
   },
   "outputs": [],
   "source": [
    "def byFavorate(posts):\n",
    "    id = posts[0]\n",
    "    score = posts[1]\n",
    "    fav = score[2]\n",
    "    up = float(score[0])\n",
    "    down = float(score[1])\n",
    "    if up + down != 0:\n",
    "        percent = float(up / (up + down))\n",
    "        return fav, percent\n",
    "    else:\n",
    "        return fav, 0"
   ]
  },
  {
   "cell_type": "code",
   "execution_count": null,
   "metadata": {
    "collapsed": false
   },
   "outputs": [],
   "source": [
    "lines = sc.textFile(localpath('/full/allVotes/part-00000.xml.gz')) \\\n",
    "        .filter(lambda x: isRecord(x)) \\\n",
    "        .map(parse) \\\n",
    "        #.reduceByKey(lambda x, y: map(add, x, y)) \\\n",
    "        #.map(byFavorate) \\\n",
    "        #.aggregateByKey((0,0), lambda a,b: (a[0] + b,    a[1] + 1), lambda a,b: (a[0] + b[0], a[1] + b[1])) \\\n",
    "        #.mapValues(lambda v: v[0]/v[1]) \\\n",
    "        #.sortByKey() \\\n",
    "        \n",
    "lines.take(10)"
   ]
  },
  {
   "cell_type": "code",
   "execution_count": null,
   "metadata": {
    "collapsed": false,
    "scrolled": true
   },
   "outputs": [],
   "source": [
    "lines = sc.textFile(localpath('/allVotes/*.gz')) \\\n",
    "        .filter(lambda x: isRecord(x)) \\\n",
    "        .map(parse) \\\n",
    "        .reduceByKey(lambda x, y: map(add, x, y)) \\\n",
    "        .map(byFavorate) \\\n",
    "        .aggregateByKey((0,0), lambda a,b: (a[0] + b,    a[1] + 1),\n",
    "                                      lambda a,b: (a[0] + b[0], a[1] + b[1])) \\\n",
    "        .mapValues(lambda v: v[0]/v[1]) \\\n",
    "        .sortByKey() \\\n",
    "        \n",
    "lines.take(100)"
   ]
  },
  {
   "cell_type": "markdown",
   "metadata": {},
   "source": [
    "# Question2"
   ]
  },
  {
   "cell_type": "code",
   "execution_count": null,
   "metadata": {
    "collapsed": true
   },
   "outputs": [],
   "source": [
    "def parse_rep(line):\n",
    "    \n",
    "    # line = line.replace(u\"\\r\", \"\")\n",
    "    line = line.encode('utf-8')\n",
    "    parser = etree.XMLParser(ns_clean=True, recover=True, encoding='utf-8')\n",
    "    root = etree.fromstring(line, parser=parser)\n",
    "    \n",
    "    rep = root.attrib['Reputation']\n",
    "    ID = root.attrib['Id']\n",
    "    \n",
    "    return ID, int(rep)"
   ]
  },
  {
   "cell_type": "code",
   "execution_count": null,
   "metadata": {
    "collapsed": true
   },
   "outputs": [],
   "source": [
    "UserID = sc.textFile(localpath('/stats/allUsers/')) \\\n",
    "        .filter(lambda x: isRecord(x)) \\\n",
    "        .map(parse_rep) \\\n",
    "        #.reduceByKey(lambda x, y: map(add, x, y)) \\\n",
    "        #.map(byFavorate) \\\n",
    "        #.aggregateByKey((0,0), lambda a,b: (a[0] + b,    a[1] + 1), lambda a,b: (a[0] + b[0], a[1] + b[1])) \\\n",
    "        #.mapValues(lambda v: v[0]/v[1]) \\\n",
    "        #.sortByKey() \\\n",
    "        \n",
    "UserID.takeOrdered(99, key = lambda x: -x[1])\n",
    "# UserID.take(10)"
   ]
  },
  {
   "cell_type": "code",
   "execution_count": null,
   "metadata": {
    "collapsed": true
   },
   "outputs": [],
   "source": [
    "def parse_postType(line):\n",
    "    try:\n",
    "        line = line.replace(u\"\\r\", \"\")\n",
    "        line = line.encode('utf-8')\n",
    "        parser = etree.XMLParser(ns_clean=True, recover=True, encoding='utf-8')\n",
    "        root = etree.fromstring(line, parser=parser)\n",
    "\n",
    "        owner = root.attrib['OwnerUserId']\n",
    "        post_type = root.attrib['PostTypeId']\n",
    "\n",
    "        if post_type == '1':\n",
    "            return owner, [1,0]\n",
    "        if post_type == '2':\n",
    "            return owner, [0,1]\n",
    "    except:\n",
    "        pass"
   ]
  },
  {
   "cell_type": "code",
   "execution_count": null,
   "metadata": {
    "collapsed": true
   },
   "outputs": [],
   "source": [
    "def validPost(line):\n",
    "    if 'OwnerUserId' in line and 'PostTypeId' in line:\n",
    "        return line"
   ]
  },
  {
   "cell_type": "code",
   "execution_count": null,
   "metadata": {
    "collapsed": true
   },
   "outputs": [],
   "source": [
    "def calRate(thing):\n",
    "    answer = float(thing[1][1])\n",
    "    question = float(thing[1][0])\n",
    "    rate = float(answer/ (answer + question))\n",
    "    return thing[0], rate"
   ]
  },
  {
   "cell_type": "code",
   "execution_count": null,
   "metadata": {
    "collapsed": false,
    "scrolled": true
   },
   "outputs": [],
   "source": [
    "post_type = sc.textFile(localpath('/stats/allPosts/*.gz')) \\\n",
    "        .filter(lambda x: validPost(x)) \\\n",
    "        .map(parse_postType) \\\n",
    "        .filter(takeOutNone) \\\n",
    "        .reduceByKey(lambda x, y: map(add, x, y)) \\\n",
    "        .map(calRate)\n",
    "        \n",
    "post_type.take(10)"
   ]
  },
  {
   "cell_type": "code",
   "execution_count": null,
   "metadata": {
    "collapsed": false
   },
   "outputs": [],
   "source": [
    "def takeOutNone(line):\n",
    "    if line != 'None':\n",
    "        return line"
   ]
  },
  {
   "cell_type": "code",
   "execution_count": null,
   "metadata": {
    "collapsed": false
   },
   "outputs": [],
   "source": [
    "UserID = sc.textFile(localpath('/stats/allUsers/*.gz')) \\\n",
    "        .filter(lambda x: isRecord(x)) \\\n",
    "        .map(parse_rep)\n",
    "post_type = sc.textFile(localpath('/stats/allPosts/*.gz')) \\\n",
    "        .filter(lambda x: isRecord(x)) \\\n",
    "        .map(parse_postType) \\\n",
    "        .filter(takeOutNone) \\\n",
    "        .reduceByKey(lambda x, y: map(add, x, y))\n",
    "\n",
    "user_answer = UserID.join(post_type)\n",
    "top_list = user_answer.takeOrdered(99, key = lambda x: -x[1][0])"
   ]
  },
  {
   "cell_type": "code",
   "execution_count": null,
   "metadata": {
    "collapsed": false,
    "scrolled": true
   },
   "outputs": [],
   "source": [
    "top_list"
   ]
  },
  {
   "cell_type": "code",
   "execution_count": null,
   "metadata": {
    "collapsed": false
   },
   "outputs": [],
   "source": [
    "question2 = []\n",
    "for i in top_list:\n",
    "    Id = i[0]\n",
    "    answer = float(i[1][1][1])\n",
    "    question = float(i[1][1][0])\n",
    "    question2.append( (int(Id), float(answer/ (answer + question)) ))"
   ]
  },
  {
   "cell_type": "code",
   "execution_count": null,
   "metadata": {
    "collapsed": false,
    "scrolled": true
   },
   "outputs": [],
   "source": [
    "question2"
   ]
  },
  {
   "cell_type": "markdown",
   "metadata": {},
   "source": [
    "# Question 3"
   ]
  },
  {
   "cell_type": "code",
   "execution_count": null,
   "metadata": {
    "collapsed": true
   },
   "outputs": [],
   "source": [
    "def post_count(line):\n",
    "    try:\n",
    "        line = line.replace(u\"\\r\", \"\")\n",
    "        line = line.encode('utf-8')\n",
    "        parser = etree.XMLParser(ns_clean=True, recover=True, encoding='utf-8')\n",
    "        root = etree.fromstring(line, parser=parser)\n",
    "\n",
    "        owner = root.attrib['OwnerUserId']\n",
    "        return owner, 1\n",
    "    except:\n",
    "        pass"
   ]
  },
  {
   "cell_type": "code",
   "execution_count": null,
   "metadata": {
    "collapsed": true
   },
   "outputs": [],
   "source": [
    "def find_average(value):\n",
    "    count = value[1]\n",
    "    if count "
   ]
  },
  {
   "cell_type": "code",
   "execution_count": null,
   "metadata": {
    "collapsed": false,
    "scrolled": true
   },
   "outputs": [],
   "source": [
    "post_type = sc.textFile(localpath('/stats/allPosts/*.gz')) \\\n",
    "        .filter(lambda x: validPost(x)) \\\n",
    "        .map(post_count) \\\n",
    "        .filter(takeOutNone) \\\n",
    "        .reduceByKey(lambda x, y: x+y) \\\n",
    "\n",
    "        \n",
    "top = post_type.takeOrdered(100, key = lambda x: -x[1])"
   ]
  },
  {
   "cell_type": "code",
   "execution_count": null,
   "metadata": {
    "collapsed": false,
    "scrolled": true
   },
   "outputs": [],
   "source": [
    "top_count = [x[1] for x in top]\n",
    "# np.mean(top_count)\n",
    "top"
   ]
  },
  {
   "cell_type": "code",
   "execution_count": null,
   "metadata": {
    "collapsed": true
   },
   "outputs": [],
   "source": [
    "def take_count(value):\n",
    "    count = value[1][1]\n",
    "    rep = float(value[1][0])\n",
    "    return count, rep"
   ]
  },
  {
   "cell_type": "code",
   "execution_count": null,
   "metadata": {
    "collapsed": false
   },
   "outputs": [],
   "source": [
    "UserID = sc.textFile(localpath('/stats/allUsers/*.gz')) \\\n",
    "        .filter(lambda x: isRecord(x)) \\\n",
    "        .map(parse_rep)\n",
    "post_type = sc.textFile(localpath('/stats/allPosts/*.gz')) \\\n",
    "        .filter(lambda x: validPost(x)) \\\n",
    "        .map(post_count) \\\n",
    "        .filter(takeOutNone) \\\n",
    "        .reduceByKey(lambda x, y: x+y) \\\n",
    "\n",
    "user_answer = UserID.join(post_type) \\\n",
    "        .map(take_count) \\\n",
    "        .aggregateByKey((0,0), lambda a,b: (a[0] + b, a[1] + 1), lambda a,b: (a[0] + b[0], a[1] + b[1])) \\\n",
    "        .mapValues(lambda v: v[0]/v[1]) \n",
    "top_count = user_answer.takeOrdered(100, key = lambda x: -x[0])"
   ]
  },
  {
   "cell_type": "code",
   "execution_count": null,
   "metadata": {
    "collapsed": false,
    "scrolled": true
   },
   "outputs": [],
   "source": [
    "top_count"
   ]
  },
  {
   "cell_type": "markdown",
   "metadata": {},
   "source": [
    "# Question 4"
   ]
  },
  {
   "cell_type": "code",
   "execution_count": null,
   "metadata": {
    "collapsed": true
   },
   "outputs": [],
   "source": [
    "def valid_count(line):\n",
    "    if 'AcceptedAnswerId' in line and 'CreationDate' in line:\n",
    "        return line"
   ]
  },
  {
   "cell_type": "code",
   "execution_count": null,
   "metadata": {
    "collapsed": true
   },
   "outputs": [],
   "source": [
    "def validPost(line):\n",
    "    if 'OwnerUserId' in line and 'PostTypeId' in line:\n",
    "        return line"
   ]
  },
  {
   "cell_type": "code",
   "execution_count": null,
   "metadata": {
    "collapsed": true
   },
   "outputs": [],
   "source": [
    "def parse_answer(line):\n",
    "    \n",
    "    try:\n",
    "        line = line.encode('utf-8')\n",
    "        parser = etree.XMLParser(ns_clean=True, recover=True, encoding='utf-8')\n",
    "        root = etree.fromstring(line, parser=parser)\n",
    "\n",
    "        # Id = root.attrib['Id']\n",
    "        answer = root.attrib['AcceptedAnswerId']\n",
    "        creation_date = root.attrib['CreationDate']\n",
    "\n",
    "        return int(answer), creation_date\n",
    "    except:\n",
    "        pass"
   ]
  },
  {
   "cell_type": "code",
   "execution_count": null,
   "metadata": {
    "collapsed": true
   },
   "outputs": [],
   "source": [
    "def parse_postID(line):\n",
    "\n",
    "    try:\n",
    "        line = line.encode('utf-8')\n",
    "        parser = etree.XMLParser(ns_clean=True, recover=True, encoding='utf-8')\n",
    "        root = etree.fromstring(line, parser=parser)\n",
    "\n",
    "        Id = root.attrib['Id']\n",
    "        creation_date = root.attrib['CreationDate']\n",
    "\n",
    "        return int(Id), creation_date\n",
    "    except:\n",
    "        pass"
   ]
  },
  {
   "cell_type": "code",
   "execution_count": null,
   "metadata": {
    "collapsed": true
   },
   "outputs": [],
   "source": [
    "def get_time(x):\n",
    "    time1 = x[1][0]\n",
    "    time2 = x[1][1]\n",
    "    time1 = datetime.strptime(time1, '%Y-%m-%dT%H:%M:%S.%f')\n",
    "    time2 = datetime.strptime(time2, '%Y-%m-%dT%H:%M:%S.%f')\n",
    "    if (time2 - time1).seconds >= 10800:\n",
    "        # long time\n",
    "        return time1.hour, [1, 0]\n",
    "    else:\n",
    "        # short time\n",
    "        return time1.hour, [0, 1]"
   ]
  },
  {
   "cell_type": "code",
   "execution_count": null,
   "metadata": {
    "collapsed": true
   },
   "outputs": [],
   "source": [
    "def calc_ratio(value):\n",
    "    hour = value[0]\n",
    "    long_resp = float(value[1][0])\n",
    "    short_resp = float(value[1][1])\n",
    "    ratio = short_resp / (short_resp + long_resp)\n",
    "    return hour, ratio"
   ]
  },
  {
   "cell_type": "code",
   "execution_count": null,
   "metadata": {
    "collapsed": true
   },
   "outputs": [],
   "source": [
    "def take_second(value):\n",
    "    second = value[1]\n",
    "    return second"
   ]
  },
  {
   "cell_type": "code",
   "execution_count": null,
   "metadata": {
    "collapsed": false
   },
   "outputs": [],
   "source": [
    "answer_time = sc.textFile(localpath('/stats/allPosts/*.gz')) \\\n",
    "        .filter(lambda x: valid_count(x)) \\\n",
    "        .map(parse_answer) \\\n",
    "        .filter(takeOutNone) \\\n",
    "\n",
    "postID_time = sc.textFile(localpath('/stats/allPosts/*.gz')) \\\n",
    "        .filter(lambda x: isRecord(x)) \\\n",
    "        .map(parse_postID) \\\n",
    "\n",
    "match_answer = answer_time.join(postID_time)\n",
    "match_answer.map(get_time) \\\n",
    "            .reduceByKey(lambda x, y: map(add, x, y)) \\\n",
    "            .map(calc_ratio) \\\n",
    "            .sortByKey() \\\n",
    "            .map(take_second) \\\n",
    "            .take(24)\n",
    "\n",
    "# match_answer.takeOrdered(10, key = lambda x: x[0])"
   ]
  }
 ],
 "metadata": {
  "kernelspec": {
   "display_name": "Python 2",
   "language": "python",
   "name": "python2"
  },
  "language_info": {
   "codemirror_mode": {
    "name": "ipython",
    "version": 2
   },
   "file_extension": ".py",
   "mimetype": "text/x-python",
   "name": "python",
   "nbconvert_exporter": "python",
   "pygments_lexer": "ipython2",
   "version": "2.7.12"
  }
 },
 "nbformat": 4,
 "nbformat_minor": 0
}
