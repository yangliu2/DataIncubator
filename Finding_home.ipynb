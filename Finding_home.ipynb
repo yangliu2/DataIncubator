{
 "cells": [
  {
   "cell_type": "markdown",
   "metadata": {},
   "source": [
    "#Finding home"
   ]
  },
  {
   "cell_type": "markdown",
   "metadata": {},
   "source": [
    "As an Asian parent looking for a place to live, I'm looking for a place with the best space to price ratio, while having the most number of Chinese/Asian restaurants, and located near good schools for my children. Unfortunately, most single sets of public data only have a single aspect of housing price data, restaurant info, or school grade. I would like to find the best neighborhood/zip code with a combination of these values given a budget."
   ]
  },
  {
   "cell_type": "code",
   "execution_count": 1,
   "metadata": {
    "collapsed": true
   },
   "outputs": [],
   "source": [
    "import numpy as np\n",
    "import pandas as pd\n",
    "import requests\n",
    "import os.path\n",
    "import re\n",
    "import time\n",
    "import json"
   ]
  },
  {
   "cell_type": "code",
   "execution_count": 2,
   "metadata": {
    "collapsed": true
   },
   "outputs": [],
   "source": [
    "# set a budget for buying house\n",
    "budget = 270000\n",
    "built = 1950\n",
    "grade = 8"
   ]
  },
  {
   "cell_type": "markdown",
   "metadata": {},
   "source": [
    "I first decided to get the property tax data from the City of New York\n",
    "https://data.cityofnewyork.us/Housing-Development/Property-Valuation-and-Assessment-data-Tax-Class/qpsp-bm9z"
   ]
  },
  {
   "cell_type": "code",
   "execution_count": 3,
   "metadata": {
    "collapsed": false
   },
   "outputs": [
    {
     "name": "stderr",
     "output_type": "stream",
     "text": [
      "C:\\Users\\Yang Liu\\Anaconda\\lib\\site-packages\\IPython\\core\\interactiveshell.py:2871: DtypeWarning: Columns (0,4,53,87,90,93,97,100,106,109) have mixed types. Specify dtype option on import or set low_memory=False.\n",
      "  interactivity=interactivity, compiler=compiler, result=result)\n"
     ]
    }
   ],
   "source": [
    "# import data from NYC Property Valuation and Assessment data \n",
    "# https://data.cityofnewyork.us/Housing-Development/Property-Valuation-and-Assessment-data-Tax-Class/qpsp-bm9z\n",
    "\n",
    "data = pd.read_csv('TC1.txt')"
   ]
  },
  {
   "cell_type": "markdown",
   "metadata": {},
   "source": [
    "I then filtered the total value (CUR_FV_L column) by '> 200,000 and < 270,000' to fit the desired budget of $270,000. \n",
    "Filter the building by years built after 1950"
   ]
  },
  {
   "cell_type": "code",
   "execution_count": null,
   "metadata": {
    "collapsed": true
   },
   "outputs": [],
   "source": [
    "# Filter by budget, lower bound set as multiple of 100,000\n",
    "budget = data.loc[data['CUR_FV_T'] < 270000]\n",
    "budget = budget.loc[budget['CUR_FV_T'] > 200000]\n",
    "\n",
    "# Find places built after 1950\n",
    "after1950 = budget.loc[budget['YRB'] >= 1950]\n",
    "valid_address = after1950[pd.notnull(after1950['HNUM_LO'])]\n",
    "price_by_zip = valid_address.groupby(by=['ZIP'])['CUR_FV_T'].mean()"
   ]
  },
  {
   "cell_type": "markdown",
   "metadata": {},
   "source": [
    "Cross check with NYC restaurant health inspection data to find the zip codes with the most number of \"Grade A\" restaurants. From: https://data.cityofnewyork.us/Health/DOHMH-New-York-City-Restaurant-Inspection-Results/xx67-kt59"
   ]
  },
  {
   "cell_type": "code",
   "execution_count": 5,
   "metadata": {
    "collapsed": false
   },
   "outputs": [
    {
     "name": "stderr",
     "output_type": "stream",
     "text": [
      "C:\\Users\\Yang Liu\\Anaconda\\lib\\site-packages\\IPython\\core\\interactiveshell.py:2871: DtypeWarning: Columns (6) have mixed types. Specify dtype option on import or set low_memory=False.\n",
      "  interactivity=interactivity, compiler=compiler, result=result)\n"
     ]
    }
   ],
   "source": [
    "# imported the NYC restaurant inspection data to look at nearby restaurants\n",
    "# https://data.cityofnewyork.us/Health/DOHMH-New-York-City-Restaurant-Inspection-Results/xx67-kt59\n",
    "\n",
    "food = pd.read_csv('NYC_Restaurant_inspection.csv')"
   ]
  },
  {
   "cell_type": "code",
   "execution_count": 28,
   "metadata": {
    "collapsed": false
   },
   "outputs": [],
   "source": [
    "# find unique places by last inspection\n",
    "unique_food = food\n",
    "unique_food.drop_duplicates(subset = 'DBA', inplace = True)"
   ]
  },
  {
   "cell_type": "code",
   "execution_count": 29,
   "metadata": {
    "collapsed": false
   },
   "outputs": [],
   "source": [
    "# find clean Chinese places\n",
    "clean_food=unique_food.loc[unique_food['GRADE'] == 'A']\n",
    "chinese_food = clean_food.loc[unique_food['CUISINE DESCRIPTION'] == 'Chinese']"
   ]
  },
  {
   "cell_type": "code",
   "execution_count": 30,
   "metadata": {
    "collapsed": true
   },
   "outputs": [],
   "source": [
    "# group places by zip code\n",
    "food_by_zip=chinese_food.groupby(by=['ZIPCODE'])['GRADE'].count()"
   ]
  },
  {
   "cell_type": "code",
   "execution_count": 31,
   "metadata": {
    "collapsed": true
   },
   "outputs": [],
   "source": [
    "#combine food and mean price into one dataframe\n",
    "food_and_price = pd.concat([food_by_zip, price_by_zip], axis=1)"
   ]
  },
  {
   "cell_type": "code",
   "execution_count": 12,
   "metadata": {
    "collapsed": false
   },
   "outputs": [
    {
     "name": "stderr",
     "output_type": "stream",
     "text": [
      ":0: FutureWarning: IPython widgets are experimental and may change in the future.\n"
     ]
    }
   ],
   "source": [
    "%matplotlib inline\n",
    "import seaborn as sns\n",
    "import matplotlib.pyplot as plt"
   ]
  },
  {
   "cell_type": "code",
   "execution_count": 32,
   "metadata": {
    "collapsed": false
   },
   "outputs": [
    {
     "data": {
      "text/plain": [
       "<matplotlib.text.Text at 0x211fd748>"
      ]
     },
     "execution_count": 32,
     "metadata": {},
     "output_type": "execute_result"
    },
    {
     "data": {
      "image/png": "[encoded data removed]",
      "text/plain": [
       "<matplotlib.figure.Figure at 0x393e9320>"
      ]
     },
     "metadata": {},
     "output_type": "display_data"
    }
   ],
   "source": [
    "# make a plot for number of restaurants in zip code vs. home price\n",
    "sns.plt.scatter(food_and_price['CUR_FV_T'], food_and_price['GRADE'])\n",
    "sns.plt.title('Number of Grade A Restaurants vs. Home Price by zip code')\n",
    "sns.plt.xlabel('Mean Home Price ($)')\n",
    "sns.plt.ylabel('Number of Grade A Restaurants')"
   ]
  },
  {
   "cell_type": "markdown",
   "metadata": {},
   "source": [
    "Three zip codes stand out with the most number of Chinese Restaurants. "
   ]
  },
  {
   "cell_type": "code",
   "execution_count": 33,
   "metadata": {
    "collapsed": false
   },
   "outputs": [
    {
     "data": {
      "text/plain": [
       "<matplotlib.axes._subplots.AxesSubplot at 0x1bf641d0>"
      ]
     },
     "execution_count": 33,
     "metadata": {},
     "output_type": "execute_result"
    },
    {
     "data": {
      "image/png": "[encoded data removed]",
      "text/plain": [
       "<matplotlib.figure.Figure at 0x2f95a748>"
      ]
     },
     "metadata": {},
     "output_type": "display_data"
    }
   ],
   "source": [
    "#look at the distribution of prices by zipcode\n",
    "nonzero_price = food_and_price[pd.notnull(food_and_price['CUR_FV_T'])]\n",
    "sns.distplot(nonzero_price['CUR_FV_T'], kde=False)"
   ]
  },
  {
   "cell_type": "code",
   "execution_count": 34,
   "metadata": {
    "collapsed": false
   },
   "outputs": [
    {
     "name": "stderr",
     "output_type": "stream",
     "text": [
      "C:\\Users\\Yang Liu\\Anaconda\\lib\\site-packages\\IPython\\kernel\\__main__.py:3: FutureWarning: sort(columns=....) is deprecated, use sort_values(by=.....)\n",
      "  app.launch_new_instance()\n"
     ]
    },
    {
     "data": {
      "text/html": [
       "<div>\n",
       "<table border=\"1\" class=\"dataframe\">\n",
       "  <thead>\n",
       "    <tr style=\"text-align: right;\">\n",
       "      <th></th>\n",
       "      <th>GRADE</th>\n",
       "      <th>CUR_FV_T</th>\n",
       "    </tr>\n",
       "  </thead>\n",
       "  <tbody>\n",
       "    <tr>\n",
       "      <th>11354.0</th>\n",
       "      <td>95.0</td>\n",
       "      <td>213652.00</td>\n",
       "    </tr>\n",
       "    <tr>\n",
       "      <th>10002.0</th>\n",
       "      <td>69.0</td>\n",
       "      <td>235194.75</td>\n",
       "    </tr>\n",
       "    <tr>\n",
       "      <th>11355.0</th>\n",
       "      <td>60.0</td>\n",
       "      <td>236463.00</td>\n",
       "    </tr>\n",
       "  </tbody>\n",
       "</table>\n",
       "</div>"
      ],
      "text/plain": [
       "         GRADE   CUR_FV_T\n",
       "11354.0   95.0  213652.00\n",
       "10002.0   69.0  235194.75\n",
       "11355.0   60.0  236463.00"
      ]
     },
     "execution_count": 34,
     "metadata": {},
     "output_type": "execute_result"
    }
   ],
   "source": [
    "# take out invalid prices\n",
    "short_list= food_and_price[pd.notnull(food_and_price['CUR_FV_T'])]\n",
    "short_list= short_list.sort('GRADE', ascending=False)\n",
    "short_list.head(3)\n",
    "\n",
    "# the top 3 areas include 11354, 10002 and 11355\n",
    "# can expand to other zip codes if no valid results are found"
   ]
  },
  {
   "cell_type": "code",
   "execution_count": 35,
   "metadata": {
    "collapsed": false
   },
   "outputs": [],
   "source": [
    "home_with_food = valid_address.loc[valid_address['ZIP'].isin([11354,10002,11355])]"
   ]
  },
  {
   "cell_type": "markdown",
   "metadata": {},
   "source": [
    "Use Zillows  API to find these places and scraped each zillow page to see if the property is: 1) on the market, and 2) near a good school."
   ]
  },
  {
   "cell_type": "code",
   "execution_count": null,
   "metadata": {
    "collapsed": true
   },
   "outputs": [],
   "source": [
    "# zillow API function, have 1000 request per day limit\n",
    "# only use after getting small number of interested properties\n",
    "\n",
    "from pyzillow.pyzillow import ZillowWrapper, GetDeepSearchResults, GetUpdatedPropertyDetails\n",
    "# pyzillow \n",
    "# https://github.com/hanneshapke/pyzillow\n",
    "\n",
    "YOUR_ZILLOW_API_KEY = 'X1-ZWz1fcz57zvjt7_6jziz'\n",
    "\n",
    "zillow_link = []\n",
    "for i in range(len(home_with_food)):\n",
    "    # sometimes zillow API wrapper dones't accept address/zipcode, even though they are strings\n",
    "    try:\n",
    "        # convert process street numbers for zillow API wrapper\n",
    "        street_num = home_with_food.iloc[i]['HNUM_LO']\n",
    "\n",
    "        if (street_num.isdigit() is False):\n",
    "            street_num = ''.join(c for c in street_num if c.isdigit())\n",
    "        number = int(street_num)\n",
    "\n",
    "        # assing address and zipcode\n",
    "        address = str(number) + ' ' + str(home_with_food.iloc[look]['STR_NAME'])\n",
    "        zipcode = str(home_with_food.iloc[look]['ZIP'])\n",
    "\n",
    "        #use zillow API wrapper to get website link for this property\n",
    "        zillow_data = ZillowWrapper(YOUR_ZILLOW_API_KEY)\n",
    "        deep_search_response = zillow_data.get_deep_search_results(address, zipcode)\n",
    "        result = GetDeepSearchResults(deep_search_response)\n",
    "\n",
    "        zillow_link.append(result.home_detail_link)\n",
    "    except:\n",
    "        print \"error on line\", i\n",
    "        pass"
   ]
  },
  {
   "cell_type": "code",
   "execution_count": 52,
   "metadata": {
    "collapsed": false
   },
   "outputs": [
    {
     "data": {
      "text/plain": [
       "'http://www.zillow.com/homedetails/147-35-38th-Ave-A66-Flushing-NY-11354/2099093131_zpid/'"
      ]
     },
     "execution_count": 52,
     "metadata": {},
     "output_type": "execute_result"
    }
   ],
   "source": [
    "link = zillow_link[0]\n",
    "link"
   ]
  },
  {
   "cell_type": "code",
   "execution_count": 55,
   "metadata": {
    "collapsed": false
   },
   "outputs": [
    {
     "name": "stdout",
     "output_type": "stream",
     "text": [
      "[10, 9, 3]\n"
     ]
    }
   ],
   "source": [
    "rate= []\n",
    "\n",
    "#scrapying zillow page for school rating\n",
    "r = requests.get(link)\n",
    "\n",
    "#parse with BeautifulSoup\n",
    "from bs4 import BeautifulSoup\n",
    "soup = BeautifulSoup(r.text, \"html.parser\")\n",
    "\n",
    "#check if selling\n",
    "sale_tag = soup.find(id = 'home-value-wrapper')\n",
    "\n",
    "if ('For Sale' in sale_tag.text):\n",
    "    onsale = True\n",
    "if ('Off Market' in sale_tag.text):\n",
    "    onsale = False\n",
    "\n",
    "if onsale:\n",
    "    #find id='nearbySchools'\n",
    "    rating = soup.find(id = 'nearbySchools')\n",
    "\n",
    "    #find 'li' in the table\n",
    "    rows = rating.find_all('li')\n",
    "\n",
    "    #find each row by 'div', first char of each striped value is grade\n",
    "    #get a list of all three, pk-5, 6-8, 9-12 in random order\n",
    "    rate=[]\n",
    "    for row in rows[1:4]:\n",
    "        score = row.find_all('div')[0].text.strip()\n",
    "        rate.append(int(score[0:2]))\n",
    "    print rate"
   ]
  },
  {
   "cell_type": "markdown",
   "metadata": {},
   "source": [
    "At the end, I was able to find a property in Flushing, Queen in a relatively good area. It is close to elementry and middle school with scores of 10 and 9. Although the score of 3 for high school is low, I may need to consider other options later. For now, this seems to be a nice place to look. "
   ]
  },
  {
   "cell_type": "code",
   "execution_count": 56,
   "metadata": {
    "collapsed": false
   },
   "outputs": [
    {
     "data": {
      "image/png": "[encoded data removed]",
      "text/plain": [
       "<IPython.core.display.Image object>"
      ]
     },
     "execution_count": 56,
     "metadata": {},
     "output_type": "execute_result"
    }
   ],
   "source": [
    "#display an image from zillows page to confirm scraped school rating\n",
    "from IPython.display import Image\n",
    "Image(filename='scrapying.png') "
   ]
  },
  {
   "cell_type": "markdown",
   "metadata": {},
   "source": [
    "#Result"
   ]
  },
  {
   "cell_type": "markdown",
   "metadata": {},
   "source": [
    "This is the result using current criteria. If this property is not of interest, I will need to relax other criterias (e.g. more zip codes) to find a more appropriate place to live."
   ]
  },
  {
   "cell_type": "markdown",
   "metadata": {},
   "source": [
    "Future work:\n",
    "1. Cross check properties with nearby restaurant ratings using yelp data\n",
    "2. Scrap transport rating of the property on each zillow page\n",
    "3. Scrap greatschool.org to circumvent zillow's 1000 request per day limit for school data"
   ]
  },
  {
   "cell_type": "markdown",
   "metadata": {},
   "source": [
    "This later work include import of Yelp data from:\n",
    "https://www.yelp.com/dataset_challenge/dataset"
   ]
  },
  {
   "cell_type": "code",
   "execution_count": null,
   "metadata": {
    "collapsed": true
   },
   "outputs": [],
   "source": [
    "import pandas as pd\n",
    "\n",
    "# read the entire file into a python array\n",
    "with open('yelp_academic_dataset_business.json', 'rb') as f:\n",
    "    data = f.readlines()\n",
    "\n",
    "# remove the trailing \"\\n\" from each line\n",
    "data = map(lambda x: x.rstrip(), data)\n",
    "\n",
    "# each cell of dataframe is a JSON object\n",
    "# with more JSON objects within each cell\n",
    "# all the nested JSON objects are stored as one\n",
    "# object in each cell\n",
    "data_json_str = \"[\" + ','.join(data) + \"]\"\n",
    "\n",
    "# now, load it into pandas\n",
    "yelp = pd.read_json(data_json_str)"
   ]
  }
 ],
 "metadata": {
  "kernelspec": {
   "display_name": "Python 2",
   "language": "python",
   "name": "python2"
  },
  "language_info": {
   "codemirror_mode": {
    "name": "ipython",
    "version": 2
   },
   "file_extension": ".py",
   "mimetype": "text/x-python",
   "name": "python",
   "nbconvert_exporter": "python",
   "pygments_lexer": "ipython2",
   "version": "2.7.12"
  }
 },
 "nbformat": 4,
 "nbformat_minor": 0
}
