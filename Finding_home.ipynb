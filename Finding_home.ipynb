{
 "cells": [
  {
   "cell_type": "markdown",
   "metadata": {},
   "source": [
    "# Finding home"
   ]
  },
  {
   "cell_type": "markdown",
   "metadata": {},
   "source": [
    "As an Asian parent looking for a place to live, I'm looking for a place with the best space to price ratio, while having the most number of Chinese/Asian restaurants, and located near good schools for my children. Unfortunately, most single sets of public data only have a single aspect of housing price data, restaurant info, or school grade. I would like to find the best neighborhood/zip code with a combination of these values given a budget."
   ]
  },
  {
   "cell_type": "code",
   "execution_count": 1,
   "metadata": {
    "collapsed": true
   },
   "outputs": [],
   "source": [
    "import numpy as np\n",
    "import pandas as pd\n",
    "import requests\n",
    "import os.path\n",
    "import io\n",
    "import re\n",
    "import time\n",
    "import json"
   ]
  },
  {
   "cell_type": "code",
   "execution_count": 2,
   "metadata": {
    "collapsed": true
   },
   "outputs": [],
   "source": [
    "# set home searching parameters\n",
    "budget_max = 500000\n",
    "budget_min = 300000\n",
    "built_year = 1900 #built year cutoff\n",
    "grade = 8 #average school grade needed\n",
    "cusine = 'Chinese'\n",
    "food_section = 5 #number of zipcode areas with top restuarant\n",
    "interest = 'biking'"
   ]
  },
  {
   "cell_type": "markdown",
   "metadata": {},
   "source": [
    "I first decided to get the property tax data from the City of New York for a complete list of properties. \n",
    "https://data.cityofnewyork.us/Housing-Development/Property-Valuation-and-Assessment-data-Tax-Class/qpsp-bm9z"
   ]
  },
  {
   "cell_type": "code",
   "execution_count": 3,
   "metadata": {
    "collapsed": false
   },
   "outputs": [
    {
     "name": "stderr",
     "output_type": "stream",
     "text": [
      "C:\\Users\\Yang Liu\\Anaconda\\lib\\site-packages\\IPython\\core\\interactiveshell.py:2871: DtypeWarning: Columns (0,4,53,87,90,93,97,100,106,109) have mixed types. Specify dtype option on import or set low_memory=False.\n",
      "  interactivity=interactivity, compiler=compiler, result=result)\n"
     ]
    }
   ],
   "source": [
    "# import data from NYC Property Valuation and Assessment data \n",
    "data = pd.read_csv('TC1.txt')"
   ]
  },
  {
   "cell_type": "markdown",
   "metadata": {},
   "source": [
    "I then filtered the total value (CUR_FV_L column) by max and min budget. \n",
    "Filter the building by years built after built year cutoff"
   ]
  },
  {
   "cell_type": "code",
   "execution_count": 4,
   "metadata": {
    "collapsed": false
   },
   "outputs": [],
   "source": [
    "# Filter by budget, set as 20% above and below budget\n",
    "\n",
    "budget = data.loc[data['CUR_FV_T'] < budget_max]\n",
    "budget = budget.loc[budget['CUR_FV_T'] > budget_min]\n",
    "\n",
    "# Find places built after specified year\n",
    "after_built_year = budget.loc[budget['YRB'] >= built_year]\n",
    "valid_address = after_built_year[pd.notnull(after_built_year['HNUM_LO'])] # filter valid address for Zillow search\n",
    "price_by_zip = valid_address.groupby(by=['ZIP'])['CUR_FV_T'].mean()"
   ]
  },
  {
   "cell_type": "markdown",
   "metadata": {},
   "source": [
    "Cross check with NYC restaurant health inspection data to find the zip codes with the most number of \"Grade A\" restaurants. From: https://data.cityofnewyork.us/Health/DOHMH-New-York-City-Restaurant-Inspection-Results/xx67-kt59"
   ]
  },
  {
   "cell_type": "code",
   "execution_count": 5,
   "metadata": {
    "collapsed": false
   },
   "outputs": [
    {
     "name": "stderr",
     "output_type": "stream",
     "text": [
      "C:\\Users\\Yang Liu\\Anaconda\\lib\\site-packages\\IPython\\core\\interactiveshell.py:2871: DtypeWarning: Columns (6) have mixed types. Specify dtype option on import or set low_memory=False.\n",
      "  interactivity=interactivity, compiler=compiler, result=result)\n"
     ]
    }
   ],
   "source": [
    "# imported the NYC restaurant inspection data to look at nearby restaurants\n",
    "food = pd.read_csv('NYC_Restaurant_inspection.csv')"
   ]
  },
  {
   "cell_type": "code",
   "execution_count": 6,
   "metadata": {
    "collapsed": false
   },
   "outputs": [],
   "source": [
    "# find unique places by last inspection\n",
    "unique_food = food\n",
    "unique_food.drop_duplicates(subset = 'DBA', inplace = True)"
   ]
  },
  {
   "cell_type": "code",
   "execution_count": 7,
   "metadata": {
    "collapsed": false
   },
   "outputs": [],
   "source": [
    "# find clean Chinese places\n",
    "clean_food=unique_food.loc[unique_food['GRADE'] == 'A']\n",
    "chinese_food = clean_food.loc[unique_food['CUISINE DESCRIPTION'] == cusine]"
   ]
  },
  {
   "cell_type": "code",
   "execution_count": 8,
   "metadata": {
    "collapsed": true
   },
   "outputs": [],
   "source": [
    "# group places by zip code\n",
    "food_by_zip=chinese_food.groupby(by=['ZIPCODE'])['GRADE'].count()"
   ]
  },
  {
   "cell_type": "code",
   "execution_count": 9,
   "metadata": {
    "collapsed": true
   },
   "outputs": [],
   "source": [
    "#combine food and mean price into one dataframe\n",
    "food_and_price = pd.concat([food_by_zip, price_by_zip], axis=1)"
   ]
  },
  {
   "cell_type": "code",
   "execution_count": 10,
   "metadata": {
    "collapsed": false
   },
   "outputs": [
    {
     "name": "stderr",
     "output_type": "stream",
     "text": [
      ":0: FutureWarning: IPython widgets are experimental and may change in the future.\n"
     ]
    }
   ],
   "source": [
    "%matplotlib inline\n",
    "import seaborn as sns\n",
    "import matplotlib.pyplot as plt"
   ]
  },
  {
   "cell_type": "code",
   "execution_count": 11,
   "metadata": {
    "collapsed": false
   },
   "outputs": [
    {
     "data": {
      "text/plain": [
       "<matplotlib.text.Text at 0x3352be80>"
      ]
     },
     "execution_count": 11,
     "metadata": {},
     "output_type": "execute_result"
    },
    {
     "data": {
      "image/png": "[encoded data removed]",
      "text/plain": [
       "<matplotlib.figure.Figure at 0x334f6160>"
      ]
     },
     "metadata": {},
     "output_type": "display_data"
    }
   ],
   "source": [
    "# make a plot for number of restaurants in zip code vs. home price\n",
    "sns.plt.scatter(food_and_price['CUR_FV_T'], food_and_price['GRADE'])\n",
    "sns.plt.title('Number of Grade A Restaurants vs. Home Price by zip code')\n",
    "sns.plt.xlabel('Mean Home Price ($)')\n",
    "sns.plt.ylabel('Number of Grade A Restaurants')"
   ]
  },
  {
   "cell_type": "markdown",
   "metadata": {},
   "source": [
    "Five zip codes stand out with the most number of Chinese Restaurants. "
   ]
  },
  {
   "cell_type": "code",
   "execution_count": 12,
   "metadata": {
    "collapsed": false
   },
   "outputs": [
    {
     "data": {
      "text/plain": [
       "<matplotlib.axes._subplots.AxesSubplot at 0x33539b00>"
      ]
     },
     "execution_count": 12,
     "metadata": {},
     "output_type": "execute_result"
    },
    {
     "data": {
      "image/png": "[encoded data removed]",
      "text/plain": [
       "<matplotlib.figure.Figure at 0x334e9f28>"
      ]
     },
     "metadata": {},
     "output_type": "display_data"
    }
   ],
   "source": [
    "#look at the distribution of prices by zipcode\n",
    "nonzero_price = food_and_price[pd.notnull(food_and_price['CUR_FV_T'])]\n",
    "sns.distplot(nonzero_price['CUR_FV_T'], kde=False)"
   ]
  },
  {
   "cell_type": "code",
   "execution_count": 13,
   "metadata": {
    "collapsed": false
   },
   "outputs": [
    {
     "name": "stderr",
     "output_type": "stream",
     "text": [
      "C:\\Users\\Yang Liu\\Anaconda\\lib\\site-packages\\IPython\\kernel\\__main__.py:3: FutureWarning: sort(columns=....) is deprecated, use sort_values(by=.....)\n",
      "  app.launch_new_instance()\n"
     ]
    },
    {
     "data": {
      "text/html": [
       "<div>\n",
       "<table border=\"1\" class=\"dataframe\">\n",
       "  <thead>\n",
       "    <tr style=\"text-align: right;\">\n",
       "      <th></th>\n",
       "      <th>GRADE</th>\n",
       "      <th>CUR_FV_T</th>\n",
       "    </tr>\n",
       "  </thead>\n",
       "  <tbody>\n",
       "    <tr>\n",
       "      <th>11354.0</th>\n",
       "      <td>95.0</td>\n",
       "      <td>433684.211538</td>\n",
       "    </tr>\n",
       "    <tr>\n",
       "      <th>11220.0</th>\n",
       "      <td>73.0</td>\n",
       "      <td>433671.343925</td>\n",
       "    </tr>\n",
       "    <tr>\n",
       "      <th>10002.0</th>\n",
       "      <td>69.0</td>\n",
       "      <td>359233.682927</td>\n",
       "    </tr>\n",
       "    <tr>\n",
       "      <th>11355.0</th>\n",
       "      <td>60.0</td>\n",
       "      <td>465325.298018</td>\n",
       "    </tr>\n",
       "    <tr>\n",
       "      <th>11214.0</th>\n",
       "      <td>32.0</td>\n",
       "      <td>435158.826384</td>\n",
       "    </tr>\n",
       "  </tbody>\n",
       "</table>\n",
       "</div>"
      ],
      "text/plain": [
       "         GRADE       CUR_FV_T\n",
       "11354.0   95.0  433684.211538\n",
       "11220.0   73.0  433671.343925\n",
       "10002.0   69.0  359233.682927\n",
       "11355.0   60.0  465325.298018\n",
       "11214.0   32.0  435158.826384"
      ]
     },
     "execution_count": 13,
     "metadata": {},
     "output_type": "execute_result"
    }
   ],
   "source": [
    "# take out invalid prices\n",
    "short_list= food_and_price[pd.notnull(food_and_price['CUR_FV_T'])]\n",
    "short_list= short_list.sort('GRADE', ascending=False)\n",
    "short_list.head(food_section)\n",
    "\n",
    "# the top 5 areas include 11354, 11220 , 10002, 11355, AND 11214.\n",
    "# can expand to other zip codes if no valid results are found"
   ]
  },
  {
   "cell_type": "code",
   "execution_count": 14,
   "metadata": {
    "collapsed": false
   },
   "outputs": [],
   "source": [
    "home_with_food = valid_address.loc[valid_address['ZIP'].isin(short_list.head(food_section).index)]"
   ]
  },
  {
   "cell_type": "code",
   "execution_count": null,
   "metadata": {
    "collapsed": false
   },
   "outputs": [],
   "source": []
  },
  {
   "cell_type": "markdown",
   "metadata": {},
   "source": [
    "Use Zillows  API to find these places and scraped each zillow page to see if the property is: 1) on the market, and 2) near a good school."
   ]
  },
  {
   "cell_type": "code",
   "execution_count": null,
   "metadata": {
    "collapsed": false,
    "scrolled": true
   },
   "outputs": [],
   "source": [
    "# zillow API function, have 1000 request per day limit\n",
    "# only use after getting small number of interested properties\n",
    "\n",
    "from pyzillow.pyzillow import ZillowWrapper, GetDeepSearchResults, GetUpdatedPropertyDetails\n",
    "# pyzillow \n",
    "# https://github.com/hanneshapke/pyzillow\n",
    "\n",
    "YOUR_ZILLOW_API_KEY = 'X1-ZWz1fcz57zvjt7_6jziz'\n",
    "\n",
    "zillow_link = []\n",
    "zillow_link_ID = []\n",
    "for i in range(len(home_with_food)):\n",
    "    # sometimes zillow API wrapper dones't accept address/zipcode, even though they are strings\n",
    "    try:\n",
    "        # convert process street numbers for zillow API wrapper\n",
    "        street_num = home_with_food.iloc[i]['HNUM_LO']\n",
    "\n",
    "        if (street_num.isdigit() is False):\n",
    "            street_num = ''.join(c for c in street_num if c.isdigit())\n",
    "        number = int(street_num)\n",
    "\n",
    "        # assing address and zipcode\n",
    "        address = str(number) + ' ' + str(home_with_food.iloc[i]['STR_NAME'])\n",
    "        zipcode = str(int(home_with_food.iloc[i]['ZIP']))\n",
    "\n",
    "        #use zillow API wrapper to get website link for this property\n",
    "        zillow_data = ZillowWrapper(YOUR_ZILLOW_API_KEY)\n",
    "        deep_search_response = zillow_data.get_deep_search_results(address, zipcode)\n",
    "        result = GetDeepSearchResults(deep_search_response)\n",
    "\n",
    "        zillow_link.append(result.home_detail_link)\n",
    "        zillow_link_ID.append(result.zillow_id)\n",
    "    except:\n",
    "        print \"error on line\", i\n",
    "        pass"
   ]
  },
  {
   "cell_type": "code",
   "execution_count": 25,
   "metadata": {
    "collapsed": false
   },
   "outputs": [],
   "source": [
    "links = pd.DataFrame(list(zillow_link))\n",
    "links.columns=['Zillow Links']\n",
    "links['Zillow ID'] = zillow_link_ID"
   ]
  },
  {
   "cell_type": "code",
   "execution_count": null,
   "metadata": {
    "collapsed": false
   },
   "outputs": [],
   "source": []
  },
  {
   "cell_type": "code",
   "execution_count": 26,
   "metadata": {
    "collapsed": false
   },
   "outputs": [
    {
     "data": {
      "text/plain": [
       "1951"
      ]
     },
     "execution_count": 26,
     "metadata": {},
     "output_type": "execute_result"
    }
   ],
   "source": [
    "len(zillow_link)"
   ]
  },
  {
   "cell_type": "code",
   "execution_count": null,
   "metadata": {
    "collapsed": false
   },
   "outputs": [],
   "source": []
  },
  {
   "cell_type": "markdown",
   "metadata": {},
   "source": [
    "Scrap the Zillow pages to nearby school ratings for the property"
   ]
  },
  {
   "cell_type": "code",
   "execution_count": 28,
   "metadata": {
    "collapsed": false
   },
   "outputs": [],
   "source": [
    "from bs4 import BeautifulSoup\n",
    "\n",
    "ratings = []\n",
    "status = []\n",
    "\n",
    "for i in range(len(links)):\n",
    "\n",
    "    rate = []\n",
    "\n",
    "    #scrapying zillow page for school rating\n",
    "    r = requests.get(links['Zillow Links'][i])\n",
    "\n",
    "    #parse with BeautifulSoup\n",
    "\n",
    "    soup = BeautifulSoup(r.text, \"html.parser\")\n",
    "\n",
    "    #check if selling\n",
    "    sale_tag = soup.find(id = 'home-value-wrapper')\n",
    "\n",
    "    if ('For Sale' in sale_tag.text):\n",
    "        status.append('For Sale')\n",
    "    elif ('Off Market' in sale_tag.text):\n",
    "        status.append('Off Market')\n",
    "    elif ('Sold' in sale_tag.text):\n",
    "        status.append('Sold')\n",
    "    elif ('PENDING' in sale_tag.text):\n",
    "        status.append('Pending')\n",
    "    else:\n",
    "        status.append('Unknown')\n",
    "\n",
    "    #find id='nearbySchools'\n",
    "    rating = soup.find(id = 'nearbySchools')\n",
    "\n",
    "    #find 'li' in the table\n",
    "    rows = rating.find_all('li')\n",
    "\n",
    "    #find each row by 'div', first char of each striped value is grade\n",
    "    #get a list of all three, pk-5, 6-8, 9-12 in random order\n",
    "    rate=[]\n",
    "    for row in rows[1:4]:\n",
    "        score = row.find_all('div')[0].text.strip()\n",
    "        rate.append(int(score[0:2]))\n",
    "    # print rate\n",
    "    ratings.append(rate)"
   ]
  },
  {
   "cell_type": "code",
   "execution_count": 29,
   "metadata": {
    "collapsed": false
   },
   "outputs": [],
   "source": [
    "links['School Rating'] = ratings\n",
    "links['Status'] = status"
   ]
  },
  {
   "cell_type": "markdown",
   "metadata": {},
   "source": [
    "At the end, I was able to find a property in Flushing, Queen in a relatively good area. It is close to elementry and middle school with scores of 10 and 9. Although the score of 3 for high school is low, I may need to consider other options later. For now, this seems to be a nice place to look. "
   ]
  },
  {
   "cell_type": "code",
   "execution_count": 30,
   "metadata": {
    "collapsed": false
   },
   "outputs": [
    {
     "data": {
      "text/html": [
       "<div>\n",
       "<table border=\"1\" class=\"dataframe\">\n",
       "  <thead>\n",
       "    <tr style=\"text-align: right;\">\n",
       "      <th></th>\n",
       "      <th>Zillow Links</th>\n",
       "      <th>Zillow ID</th>\n",
       "      <th>School Rating</th>\n",
       "      <th>Status</th>\n",
       "    </tr>\n",
       "  </thead>\n",
       "  <tbody>\n",
       "    <tr>\n",
       "      <th>0</th>\n",
       "      <td>http://www.zillow.com/homedetails/291-Cherry-S...</td>\n",
       "      <td>31495176</td>\n",
       "      <td>[10, 10, 9]</td>\n",
       "      <td>Off Market</td>\n",
       "    </tr>\n",
       "    <tr>\n",
       "      <th>1</th>\n",
       "      <td>http://www.zillow.com/homedetails/291-Cherry-S...</td>\n",
       "      <td>31495176</td>\n",
       "      <td>[10, 10, 9]</td>\n",
       "      <td>Off Market</td>\n",
       "    </tr>\n",
       "    <tr>\n",
       "      <th>2</th>\n",
       "      <td>http://www.zillow.com/homedetails/291-Cherry-S...</td>\n",
       "      <td>31495176</td>\n",
       "      <td>[10, 10, 9]</td>\n",
       "      <td>Off Market</td>\n",
       "    </tr>\n",
       "    <tr>\n",
       "      <th>3</th>\n",
       "      <td>http://www.zillow.com/homedetails/291-Cherry-S...</td>\n",
       "      <td>31495176</td>\n",
       "      <td>[10, 10, 9]</td>\n",
       "      <td>Off Market</td>\n",
       "    </tr>\n",
       "    <tr>\n",
       "      <th>4</th>\n",
       "      <td>http://www.zillow.com/homedetails/291-Cherry-S...</td>\n",
       "      <td>31495176</td>\n",
       "      <td>[10, 10, 9]</td>\n",
       "      <td>Off Market</td>\n",
       "    </tr>\n",
       "    <tr>\n",
       "      <th>5</th>\n",
       "      <td>http://www.zillow.com/homedetails/291-Cherry-S...</td>\n",
       "      <td>31495176</td>\n",
       "      <td>[10, 10, 9]</td>\n",
       "      <td>Off Market</td>\n",
       "    </tr>\n",
       "    <tr>\n",
       "      <th>6</th>\n",
       "      <td>http://www.zillow.com/homedetails/291-Cherry-S...</td>\n",
       "      <td>31495176</td>\n",
       "      <td>[10, 10, 9]</td>\n",
       "      <td>Off Market</td>\n",
       "    </tr>\n",
       "    <tr>\n",
       "      <th>7</th>\n",
       "      <td>http://www.zillow.com/homedetails/291-Cherry-S...</td>\n",
       "      <td>31495176</td>\n",
       "      <td>[10, 10, 9]</td>\n",
       "      <td>Off Market</td>\n",
       "    </tr>\n",
       "    <tr>\n",
       "      <th>8</th>\n",
       "      <td>http://www.zillow.com/homedetails/291-Cherry-S...</td>\n",
       "      <td>31495176</td>\n",
       "      <td>[10, 10, 9]</td>\n",
       "      <td>Off Market</td>\n",
       "    </tr>\n",
       "    <tr>\n",
       "      <th>9</th>\n",
       "      <td>http://www.zillow.com/homedetails/291-Cherry-S...</td>\n",
       "      <td>31495176</td>\n",
       "      <td>[10, 10, 9]</td>\n",
       "      <td>Off Market</td>\n",
       "    </tr>\n",
       "    <tr>\n",
       "      <th>10</th>\n",
       "      <td>http://www.zillow.com/homedetails/291-Cherry-S...</td>\n",
       "      <td>31495176</td>\n",
       "      <td>[10, 10, 9]</td>\n",
       "      <td>Off Market</td>\n",
       "    </tr>\n",
       "    <tr>\n",
       "      <th>11</th>\n",
       "      <td>http://www.zillow.com/homedetails/305-Cherry-S...</td>\n",
       "      <td>31495191</td>\n",
       "      <td>[10, 10, 9]</td>\n",
       "      <td>Off Market</td>\n",
       "    </tr>\n",
       "    <tr>\n",
       "      <th>12</th>\n",
       "      <td>http://www.zillow.com/homedetails/305-Cherry-S...</td>\n",
       "      <td>31495191</td>\n",
       "      <td>[10, 10, 9]</td>\n",
       "      <td>Off Market</td>\n",
       "    </tr>\n",
       "    <tr>\n",
       "      <th>13</th>\n",
       "      <td>http://www.zillow.com/homedetails/305-Cherry-S...</td>\n",
       "      <td>31495191</td>\n",
       "      <td>[10, 10, 9]</td>\n",
       "      <td>Off Market</td>\n",
       "    </tr>\n",
       "    <tr>\n",
       "      <th>14</th>\n",
       "      <td>http://www.zillow.com/homedetails/305-Cherry-S...</td>\n",
       "      <td>31495191</td>\n",
       "      <td>[10, 10, 9]</td>\n",
       "      <td>Off Market</td>\n",
       "    </tr>\n",
       "    <tr>\n",
       "      <th>15</th>\n",
       "      <td>http://www.zillow.com/homedetails/305-Cherry-S...</td>\n",
       "      <td>31495191</td>\n",
       "      <td>[10, 10, 9]</td>\n",
       "      <td>Off Market</td>\n",
       "    </tr>\n",
       "    <tr>\n",
       "      <th>16</th>\n",
       "      <td>http://www.zillow.com/homedetails/305-Cherry-S...</td>\n",
       "      <td>31495191</td>\n",
       "      <td>[10, 10, 9]</td>\n",
       "      <td>Off Market</td>\n",
       "    </tr>\n",
       "    <tr>\n",
       "      <th>17</th>\n",
       "      <td>http://www.zillow.com/homedetails/305-Cherry-S...</td>\n",
       "      <td>31495191</td>\n",
       "      <td>[10, 10, 9]</td>\n",
       "      <td>Off Market</td>\n",
       "    </tr>\n",
       "    <tr>\n",
       "      <th>18</th>\n",
       "      <td>http://www.zillow.com/homedetails/305-Cherry-S...</td>\n",
       "      <td>31495191</td>\n",
       "      <td>[10, 10, 9]</td>\n",
       "      <td>Off Market</td>\n",
       "    </tr>\n",
       "    <tr>\n",
       "      <th>19</th>\n",
       "      <td>http://www.zillow.com/homedetails/305-Cherry-S...</td>\n",
       "      <td>31495191</td>\n",
       "      <td>[10, 10, 9]</td>\n",
       "      <td>Off Market</td>\n",
       "    </tr>\n",
       "    <tr>\n",
       "      <th>20</th>\n",
       "      <td>http://www.zillow.com/homedetails/305-Cherry-S...</td>\n",
       "      <td>31495191</td>\n",
       "      <td>[10, 10, 9]</td>\n",
       "      <td>Off Market</td>\n",
       "    </tr>\n",
       "    <tr>\n",
       "      <th>21</th>\n",
       "      <td>http://www.zillow.com/homedetails/305-Cherry-S...</td>\n",
       "      <td>31495191</td>\n",
       "      <td>[10, 10, 9]</td>\n",
       "      <td>Off Market</td>\n",
       "    </tr>\n",
       "    <tr>\n",
       "      <th>22</th>\n",
       "      <td>http://www.zillow.com/homedetails/305-Cherry-S...</td>\n",
       "      <td>31495191</td>\n",
       "      <td>[10, 10, 9]</td>\n",
       "      <td>Off Market</td>\n",
       "    </tr>\n",
       "    <tr>\n",
       "      <th>23</th>\n",
       "      <td>http://www.zillow.com/homedetails/253-Clinton-...</td>\n",
       "      <td>31495215</td>\n",
       "      <td>[10, 10, 9]</td>\n",
       "      <td>Off Market</td>\n",
       "    </tr>\n",
       "    <tr>\n",
       "      <th>24</th>\n",
       "      <td>http://www.zillow.com/homedetails/253-Clinton-...</td>\n",
       "      <td>31495215</td>\n",
       "      <td>[10, 10, 9]</td>\n",
       "      <td>Off Market</td>\n",
       "    </tr>\n",
       "    <tr>\n",
       "      <th>25</th>\n",
       "      <td>http://www.zillow.com/homedetails/253-Clinton-...</td>\n",
       "      <td>31495215</td>\n",
       "      <td>[10, 10, 9]</td>\n",
       "      <td>Off Market</td>\n",
       "    </tr>\n",
       "    <tr>\n",
       "      <th>26</th>\n",
       "      <td>http://www.zillow.com/homedetails/253-Clinton-...</td>\n",
       "      <td>31495215</td>\n",
       "      <td>[10, 10, 9]</td>\n",
       "      <td>Off Market</td>\n",
       "    </tr>\n",
       "    <tr>\n",
       "      <th>27</th>\n",
       "      <td>http://www.zillow.com/homedetails/253-Clinton-...</td>\n",
       "      <td>31495215</td>\n",
       "      <td>[10, 10, 9]</td>\n",
       "      <td>Off Market</td>\n",
       "    </tr>\n",
       "    <tr>\n",
       "      <th>28</th>\n",
       "      <td>http://www.zillow.com/homedetails/255-Clinton-...</td>\n",
       "      <td>31495220</td>\n",
       "      <td>[10, 10, 9]</td>\n",
       "      <td>Sold</td>\n",
       "    </tr>\n",
       "    <tr>\n",
       "      <th>29</th>\n",
       "      <td>http://www.zillow.com/homedetails/253-Clinton-...</td>\n",
       "      <td>31495215</td>\n",
       "      <td>[10, 10, 9]</td>\n",
       "      <td>Off Market</td>\n",
       "    </tr>\n",
       "    <tr>\n",
       "      <th>...</th>\n",
       "      <td>...</td>\n",
       "      <td>...</td>\n",
       "      <td>...</td>\n",
       "      <td>...</td>\n",
       "    </tr>\n",
       "    <tr>\n",
       "      <th>1921</th>\n",
       "      <td>http://www.zillow.com/homedetails/14736-33rd-A...</td>\n",
       "      <td>32037218</td>\n",
       "      <td>[9, 8, 3]</td>\n",
       "      <td>Off Market</td>\n",
       "    </tr>\n",
       "    <tr>\n",
       "      <th>1922</th>\n",
       "      <td>http://www.zillow.com/homedetails/14740-33rd-A...</td>\n",
       "      <td>32037220</td>\n",
       "      <td>[9, 8, 3]</td>\n",
       "      <td>Off Market</td>\n",
       "    </tr>\n",
       "    <tr>\n",
       "      <th>1923</th>\n",
       "      <td>http://www.zillow.com/homedetails/14805-34th-A...</td>\n",
       "      <td>32037236</td>\n",
       "      <td>[9, 8, 3]</td>\n",
       "      <td>Off Market</td>\n",
       "    </tr>\n",
       "    <tr>\n",
       "      <th>1924</th>\n",
       "      <td>http://www.zillow.com/homedetails/14803-34th-A...</td>\n",
       "      <td>2146840866</td>\n",
       "      <td>[9, 8, 3]</td>\n",
       "      <td>Off Market</td>\n",
       "    </tr>\n",
       "    <tr>\n",
       "      <th>1925</th>\n",
       "      <td>http://www.zillow.com/homedetails/14801-34th-A...</td>\n",
       "      <td>32037238</td>\n",
       "      <td>[9, 8, 3]</td>\n",
       "      <td>Off Market</td>\n",
       "    </tr>\n",
       "    <tr>\n",
       "      <th>1926</th>\n",
       "      <td>http://www.zillow.com/homedetails/14938-33rd-A...</td>\n",
       "      <td>32037278</td>\n",
       "      <td>[9, 8, 3]</td>\n",
       "      <td>Off Market</td>\n",
       "    </tr>\n",
       "    <tr>\n",
       "      <th>1927</th>\n",
       "      <td>http://www.zillow.com/homedetails/3429-146th-S...</td>\n",
       "      <td>32037459</td>\n",
       "      <td>[9, 8, 3]</td>\n",
       "      <td>Off Market</td>\n",
       "    </tr>\n",
       "    <tr>\n",
       "      <th>1928</th>\n",
       "      <td>http://www.zillow.com/homedetails/3427-146th-S...</td>\n",
       "      <td>32037460</td>\n",
       "      <td>[9, 8, 3]</td>\n",
       "      <td>Off Market</td>\n",
       "    </tr>\n",
       "    <tr>\n",
       "      <th>1929</th>\n",
       "      <td>http://www.zillow.com/homedetails/3425-146th-S...</td>\n",
       "      <td>32037461</td>\n",
       "      <td>[9, 8, 3]</td>\n",
       "      <td>Off Market</td>\n",
       "    </tr>\n",
       "    <tr>\n",
       "      <th>1930</th>\n",
       "      <td>http://www.zillow.com/homedetails/14618-34th-A...</td>\n",
       "      <td>32037472</td>\n",
       "      <td>[9, 8, 3]</td>\n",
       "      <td>Off Market</td>\n",
       "    </tr>\n",
       "    <tr>\n",
       "      <th>1931</th>\n",
       "      <td>http://www.zillow.com/homedetails/14620-34th-A...</td>\n",
       "      <td>32037473</td>\n",
       "      <td>[9, 8, 3]</td>\n",
       "      <td>Off Market</td>\n",
       "    </tr>\n",
       "    <tr>\n",
       "      <th>1932</th>\n",
       "      <td>http://www.zillow.com/homedetails/14622-34th-A...</td>\n",
       "      <td>32037474</td>\n",
       "      <td>[9, 8, 3]</td>\n",
       "      <td>Off Market</td>\n",
       "    </tr>\n",
       "    <tr>\n",
       "      <th>1933</th>\n",
       "      <td>http://www.zillow.com/homedetails/3415-149th-S...</td>\n",
       "      <td>32037508</td>\n",
       "      <td>[9, 8, 3]</td>\n",
       "      <td>Sold</td>\n",
       "    </tr>\n",
       "    <tr>\n",
       "      <th>1934</th>\n",
       "      <td>http://www.zillow.com/homedetails/3401-149th-S...</td>\n",
       "      <td>32037512</td>\n",
       "      <td>[9, 8, 3]</td>\n",
       "      <td>Sold</td>\n",
       "    </tr>\n",
       "    <tr>\n",
       "      <th>1935</th>\n",
       "      <td>http://www.zillow.com/homedetails/15049-35th-A...</td>\n",
       "      <td>32037571</td>\n",
       "      <td>[9, 8, 3]</td>\n",
       "      <td>Off Market</td>\n",
       "    </tr>\n",
       "    <tr>\n",
       "      <th>1936</th>\n",
       "      <td>http://www.zillow.com/homedetails/3519-149th-S...</td>\n",
       "      <td>32037803</td>\n",
       "      <td>[9, 8, 3]</td>\n",
       "      <td>Sold</td>\n",
       "    </tr>\n",
       "    <tr>\n",
       "      <th>1937</th>\n",
       "      <td>http://www.zillow.com/homedetails/3504-149th-P...</td>\n",
       "      <td>32037810</td>\n",
       "      <td>[9, 8, 3]</td>\n",
       "      <td>Off Market</td>\n",
       "    </tr>\n",
       "    <tr>\n",
       "      <th>1938</th>\n",
       "      <td>http://www.zillow.com/homedetails/3508-149th-P...</td>\n",
       "      <td>32037811</td>\n",
       "      <td>[9, 8, 3]</td>\n",
       "      <td>Off Market</td>\n",
       "    </tr>\n",
       "    <tr>\n",
       "      <th>1939</th>\n",
       "      <td>http://www.zillow.com/homedetails/3524-149th-P...</td>\n",
       "      <td>32037816</td>\n",
       "      <td>[9, 8, 3]</td>\n",
       "      <td>Off Market</td>\n",
       "    </tr>\n",
       "    <tr>\n",
       "      <th>1940</th>\n",
       "      <td>http://www.zillow.com/homedetails/14222-37th-A...</td>\n",
       "      <td>32037945</td>\n",
       "      <td>[8, 3, 10]</td>\n",
       "      <td>Off Market</td>\n",
       "    </tr>\n",
       "    <tr>\n",
       "      <th>1941</th>\n",
       "      <td>http://www.zillow.com/homedetails/14705-41st-A...</td>\n",
       "      <td>32038555</td>\n",
       "      <td>[9, 8, 3]</td>\n",
       "      <td>Off Market</td>\n",
       "    </tr>\n",
       "    <tr>\n",
       "      <th>1942</th>\n",
       "      <td>http://www.zillow.com/homedetails/14703-41st-A...</td>\n",
       "      <td>32038556</td>\n",
       "      <td>[9, 8, 3]</td>\n",
       "      <td>Off Market</td>\n",
       "    </tr>\n",
       "    <tr>\n",
       "      <th>1943</th>\n",
       "      <td>http://www.zillow.com/homedetails/14908-Roosev...</td>\n",
       "      <td>32038656</td>\n",
       "      <td>[9, 8, 3]</td>\n",
       "      <td>Off Market</td>\n",
       "    </tr>\n",
       "    <tr>\n",
       "      <th>1944</th>\n",
       "      <td>http://www.zillow.com/homedetails/14912-Roosev...</td>\n",
       "      <td>32038658</td>\n",
       "      <td>[9, 8, 3]</td>\n",
       "      <td>Off Market</td>\n",
       "    </tr>\n",
       "    <tr>\n",
       "      <th>1945</th>\n",
       "      <td>http://www.zillow.com/homedetails/14914-Roosev...</td>\n",
       "      <td>32038659</td>\n",
       "      <td>[9, 8, 3]</td>\n",
       "      <td>Off Market</td>\n",
       "    </tr>\n",
       "    <tr>\n",
       "      <th>1946</th>\n",
       "      <td>http://www.zillow.com/homedetails/4030-149th-P...</td>\n",
       "      <td>32038665</td>\n",
       "      <td>[9, 8, 3]</td>\n",
       "      <td>Sold</td>\n",
       "    </tr>\n",
       "    <tr>\n",
       "      <th>1947</th>\n",
       "      <td>http://www.zillow.com/homedetails/14909-41st-A...</td>\n",
       "      <td>64906425</td>\n",
       "      <td>[9, 8, 3]</td>\n",
       "      <td>Off Market</td>\n",
       "    </tr>\n",
       "    <tr>\n",
       "      <th>1948</th>\n",
       "      <td>http://www.zillow.com/homedetails/4017-149th-P...</td>\n",
       "      <td>32038689</td>\n",
       "      <td>[9, 8, 3]</td>\n",
       "      <td>Off Market</td>\n",
       "    </tr>\n",
       "    <tr>\n",
       "      <th>1949</th>\n",
       "      <td>http://www.zillow.com/homedetails/4009-149th-P...</td>\n",
       "      <td>32038690</td>\n",
       "      <td>[9, 8, 3]</td>\n",
       "      <td>Off Market</td>\n",
       "    </tr>\n",
       "    <tr>\n",
       "      <th>1950</th>\n",
       "      <td>http://www.zillow.com/homedetails/4001-149th-P...</td>\n",
       "      <td>32038692</td>\n",
       "      <td>[9, 8, 3]</td>\n",
       "      <td>Off Market</td>\n",
       "    </tr>\n",
       "  </tbody>\n",
       "</table>\n",
       "<p>1951 rows × 4 columns</p>\n",
       "</div>"
      ],
      "text/plain": [
       "                                           Zillow Links   Zillow ID  \\\n",
       "0     http://www.zillow.com/homedetails/291-Cherry-S...    31495176   \n",
       "1     http://www.zillow.com/homedetails/291-Cherry-S...    31495176   \n",
       "2     http://www.zillow.com/homedetails/291-Cherry-S...    31495176   \n",
       "3     http://www.zillow.com/homedetails/291-Cherry-S...    31495176   \n",
       "4     http://www.zillow.com/homedetails/291-Cherry-S...    31495176   \n",
       "5     http://www.zillow.com/homedetails/291-Cherry-S...    31495176   \n",
       "6     http://www.zillow.com/homedetails/291-Cherry-S...    31495176   \n",
       "7     http://www.zillow.com/homedetails/291-Cherry-S...    31495176   \n",
       "8     http://www.zillow.com/homedetails/291-Cherry-S...    31495176   \n",
       "9     http://www.zillow.com/homedetails/291-Cherry-S...    31495176   \n",
       "10    http://www.zillow.com/homedetails/291-Cherry-S...    31495176   \n",
       "11    http://www.zillow.com/homedetails/305-Cherry-S...    31495191   \n",
       "12    http://www.zillow.com/homedetails/305-Cherry-S...    31495191   \n",
       "13    http://www.zillow.com/homedetails/305-Cherry-S...    31495191   \n",
       "14    http://www.zillow.com/homedetails/305-Cherry-S...    31495191   \n",
       "15    http://www.zillow.com/homedetails/305-Cherry-S...    31495191   \n",
       "16    http://www.zillow.com/homedetails/305-Cherry-S...    31495191   \n",
       "17    http://www.zillow.com/homedetails/305-Cherry-S...    31495191   \n",
       "18    http://www.zillow.com/homedetails/305-Cherry-S...    31495191   \n",
       "19    http://www.zillow.com/homedetails/305-Cherry-S...    31495191   \n",
       "20    http://www.zillow.com/homedetails/305-Cherry-S...    31495191   \n",
       "21    http://www.zillow.com/homedetails/305-Cherry-S...    31495191   \n",
       "22    http://www.zillow.com/homedetails/305-Cherry-S...    31495191   \n",
       "23    http://www.zillow.com/homedetails/253-Clinton-...    31495215   \n",
       "24    http://www.zillow.com/homedetails/253-Clinton-...    31495215   \n",
       "25    http://www.zillow.com/homedetails/253-Clinton-...    31495215   \n",
       "26    http://www.zillow.com/homedetails/253-Clinton-...    31495215   \n",
       "27    http://www.zillow.com/homedetails/253-Clinton-...    31495215   \n",
       "28    http://www.zillow.com/homedetails/255-Clinton-...    31495220   \n",
       "29    http://www.zillow.com/homedetails/253-Clinton-...    31495215   \n",
       "...                                                 ...         ...   \n",
       "1921  http://www.zillow.com/homedetails/14736-33rd-A...    32037218   \n",
       "1922  http://www.zillow.com/homedetails/14740-33rd-A...    32037220   \n",
       "1923  http://www.zillow.com/homedetails/14805-34th-A...    32037236   \n",
       "1924  http://www.zillow.com/homedetails/14803-34th-A...  2146840866   \n",
       "1925  http://www.zillow.com/homedetails/14801-34th-A...    32037238   \n",
       "1926  http://www.zillow.com/homedetails/14938-33rd-A...    32037278   \n",
       "1927  http://www.zillow.com/homedetails/3429-146th-S...    32037459   \n",
       "1928  http://www.zillow.com/homedetails/3427-146th-S...    32037460   \n",
       "1929  http://www.zillow.com/homedetails/3425-146th-S...    32037461   \n",
       "1930  http://www.zillow.com/homedetails/14618-34th-A...    32037472   \n",
       "1931  http://www.zillow.com/homedetails/14620-34th-A...    32037473   \n",
       "1932  http://www.zillow.com/homedetails/14622-34th-A...    32037474   \n",
       "1933  http://www.zillow.com/homedetails/3415-149th-S...    32037508   \n",
       "1934  http://www.zillow.com/homedetails/3401-149th-S...    32037512   \n",
       "1935  http://www.zillow.com/homedetails/15049-35th-A...    32037571   \n",
       "1936  http://www.zillow.com/homedetails/3519-149th-S...    32037803   \n",
       "1937  http://www.zillow.com/homedetails/3504-149th-P...    32037810   \n",
       "1938  http://www.zillow.com/homedetails/3508-149th-P...    32037811   \n",
       "1939  http://www.zillow.com/homedetails/3524-149th-P...    32037816   \n",
       "1940  http://www.zillow.com/homedetails/14222-37th-A...    32037945   \n",
       "1941  http://www.zillow.com/homedetails/14705-41st-A...    32038555   \n",
       "1942  http://www.zillow.com/homedetails/14703-41st-A...    32038556   \n",
       "1943  http://www.zillow.com/homedetails/14908-Roosev...    32038656   \n",
       "1944  http://www.zillow.com/homedetails/14912-Roosev...    32038658   \n",
       "1945  http://www.zillow.com/homedetails/14914-Roosev...    32038659   \n",
       "1946  http://www.zillow.com/homedetails/4030-149th-P...    32038665   \n",
       "1947  http://www.zillow.com/homedetails/14909-41st-A...    64906425   \n",
       "1948  http://www.zillow.com/homedetails/4017-149th-P...    32038689   \n",
       "1949  http://www.zillow.com/homedetails/4009-149th-P...    32038690   \n",
       "1950  http://www.zillow.com/homedetails/4001-149th-P...    32038692   \n",
       "\n",
       "     School Rating      Status  \n",
       "0      [10, 10, 9]  Off Market  \n",
       "1      [10, 10, 9]  Off Market  \n",
       "2      [10, 10, 9]  Off Market  \n",
       "3      [10, 10, 9]  Off Market  \n",
       "4      [10, 10, 9]  Off Market  \n",
       "5      [10, 10, 9]  Off Market  \n",
       "6      [10, 10, 9]  Off Market  \n",
       "7      [10, 10, 9]  Off Market  \n",
       "8      [10, 10, 9]  Off Market  \n",
       "9      [10, 10, 9]  Off Market  \n",
       "10     [10, 10, 9]  Off Market  \n",
       "11     [10, 10, 9]  Off Market  \n",
       "12     [10, 10, 9]  Off Market  \n",
       "13     [10, 10, 9]  Off Market  \n",
       "14     [10, 10, 9]  Off Market  \n",
       "15     [10, 10, 9]  Off Market  \n",
       "16     [10, 10, 9]  Off Market  \n",
       "17     [10, 10, 9]  Off Market  \n",
       "18     [10, 10, 9]  Off Market  \n",
       "19     [10, 10, 9]  Off Market  \n",
       "20     [10, 10, 9]  Off Market  \n",
       "21     [10, 10, 9]  Off Market  \n",
       "22     [10, 10, 9]  Off Market  \n",
       "23     [10, 10, 9]  Off Market  \n",
       "24     [10, 10, 9]  Off Market  \n",
       "25     [10, 10, 9]  Off Market  \n",
       "26     [10, 10, 9]  Off Market  \n",
       "27     [10, 10, 9]  Off Market  \n",
       "28     [10, 10, 9]        Sold  \n",
       "29     [10, 10, 9]  Off Market  \n",
       "...            ...         ...  \n",
       "1921     [9, 8, 3]  Off Market  \n",
       "1922     [9, 8, 3]  Off Market  \n",
       "1923     [9, 8, 3]  Off Market  \n",
       "1924     [9, 8, 3]  Off Market  \n",
       "1925     [9, 8, 3]  Off Market  \n",
       "1926     [9, 8, 3]  Off Market  \n",
       "1927     [9, 8, 3]  Off Market  \n",
       "1928     [9, 8, 3]  Off Market  \n",
       "1929     [9, 8, 3]  Off Market  \n",
       "1930     [9, 8, 3]  Off Market  \n",
       "1931     [9, 8, 3]  Off Market  \n",
       "1932     [9, 8, 3]  Off Market  \n",
       "1933     [9, 8, 3]        Sold  \n",
       "1934     [9, 8, 3]        Sold  \n",
       "1935     [9, 8, 3]  Off Market  \n",
       "1936     [9, 8, 3]        Sold  \n",
       "1937     [9, 8, 3]  Off Market  \n",
       "1938     [9, 8, 3]  Off Market  \n",
       "1939     [9, 8, 3]  Off Market  \n",
       "1940    [8, 3, 10]  Off Market  \n",
       "1941     [9, 8, 3]  Off Market  \n",
       "1942     [9, 8, 3]  Off Market  \n",
       "1943     [9, 8, 3]  Off Market  \n",
       "1944     [9, 8, 3]  Off Market  \n",
       "1945     [9, 8, 3]  Off Market  \n",
       "1946     [9, 8, 3]        Sold  \n",
       "1947     [9, 8, 3]  Off Market  \n",
       "1948     [9, 8, 3]  Off Market  \n",
       "1949     [9, 8, 3]  Off Market  \n",
       "1950     [9, 8, 3]  Off Market  \n",
       "\n",
       "[1951 rows x 4 columns]"
      ]
     },
     "execution_count": 30,
     "metadata": {},
     "output_type": "execute_result"
    }
   ],
   "source": [
    "links"
   ]
  },
  {
   "cell_type": "code",
   "execution_count": 31,
   "metadata": {
    "collapsed": true
   },
   "outputs": [],
   "source": [
    "#save the zillow results in a csv\n",
    "today_date = time.strftime(\"%d_%m_%Y\")\n",
    "links\n",
    "filename = 'Zillow' + today_date + '.csv'\n",
    "links.to_csv(filename)"
   ]
  },
  {
   "cell_type": "code",
   "execution_count": 32,
   "metadata": {
    "collapsed": false
   },
   "outputs": [],
   "source": [
    "links_sale = links.loc[links['Status'] == 'For Sale']"
   ]
  },
  {
   "cell_type": "code",
   "execution_count": 33,
   "metadata": {
    "collapsed": false
   },
   "outputs": [
    {
     "name": "stdout",
     "output_type": "stream",
     "text": [
      "http://www.zillow.com/homedetails/729-51st-St-Brooklyn-NY-11220/30577205_zpid/\n",
      "http://www.zillow.com/homedetails/729-51st-St-Brooklyn-NY-11220/30577205_zpid/\n",
      "http://www.zillow.com/homedetails/265-54th-St-Brooklyn-NY-11220/30577802_zpid/\n",
      "http://www.zillow.com/homedetails/6754-4th-Ave-Brooklyn-NY-11220/30691690_zpid/\n",
      "http://www.zillow.com/homedetails/115-Bay-Ridge-Ave-Brooklyn-NY-11220/30691966_zpid/\n",
      "http://www.zillow.com/homedetails/26-Bay-Ridge-Ave-APT-3C-Brooklyn-NY-11220/62648722_zpid/\n",
      "http://www.zillow.com/homedetails/2042-77th-St-Brooklyn-NY-11214/30707448_zpid/\n",
      "http://www.zillow.com/homedetails/1977-79th-St-Brooklyn-NY-11214/30708100_zpid/\n",
      "http://www.zillow.com/homedetails/8402-New-Utrecht-Ave-Brooklyn-NY-11214/30710860_zpid/\n",
      "http://www.zillow.com/homedetails/8508-21st-Ave-Brooklyn-NY-11214/30711493_zpid/\n",
      "http://www.zillow.com/homedetails/8776-16th-Ave-Brooklyn-NY-11214/30713795_zpid/\n",
      "http://www.zillow.com/homedetails/8817-Bay-16-St-Brooklyn-NY-11214/2100031585_zpid/\n",
      "http://www.zillow.com/homedetails/198-Bay-17-St-Brooklyn-NY-11214/2097760534_zpid/\n",
      "http://www.zillow.com/homedetails/198-Bay-17-St-Brooklyn-NY-11214/2097760534_zpid/\n",
      "http://www.zillow.com/homedetails/198-Bay-17-St-Brooklyn-NY-11214/2097760534_zpid/\n",
      "http://www.zillow.com/homedetails/198-Bay-17-St-Brooklyn-NY-11214/2097760534_zpid/\n",
      "http://www.zillow.com/homedetails/1862-Bath-Ave-Brooklyn-NY-11214/30714097_zpid/\n",
      "http://www.zillow.com/homedetails/173-Bay-23rd-St-3B-Brooklyn-NY-11214/62648954_zpid/\n",
      "http://www.zillow.com/homedetails/173-Bay-23rd-St-3B-Brooklyn-NY-11214/62648954_zpid/\n",
      "http://www.zillow.com/homedetails/173-Bay-23rd-St-3B-Brooklyn-NY-11214/62648954_zpid/\n",
      "http://www.zillow.com/homedetails/2116-Bath-Ave-Brooklyn-NY-11214/30714326_zpid/\n",
      "http://www.zillow.com/homedetails/8849-18th-Ave-Brooklyn-NY-11214/30715080_zpid/\n",
      "http://www.zillow.com/homedetails/224-Bay-23rd-St-Brooklyn-NY-11214/30715343_zpid/\n",
      "http://www.zillow.com/homedetails/2370-85th-St-Brooklyn-NY-11214/30729622_zpid/\n",
      "http://www.zillow.com/homedetails/68-Bay-28-St-3A-Brooklyn-NY-11214/2098159231_zpid/\n",
      "http://www.zillow.com/homedetails/68-Bay-28-St-3A-Brooklyn-NY-11214/2098159231_zpid/\n",
      "http://www.zillow.com/homedetails/8683-25th-Ave-Brooklyn-NY-11214/30729930_zpid/\n",
      "http://www.zillow.com/homedetails/124-Bay-34-St-Brooklyn-NY-11214/2097991146_zpid/\n",
      "http://www.zillow.com/homedetails/124-Bay-34-St-Brooklyn-NY-11214/2097991146_zpid/\n",
      "http://www.zillow.com/homedetails/162-Bay-43-St-1A-Brooklyn-NY-11214/2102152090_zpid/\n",
      "http://www.zillow.com/homedetails/162-Bay-43-St-1A-Brooklyn-NY-11214/2102152090_zpid/\n",
      "http://www.zillow.com/homedetails/2721-Harway-Ave-Brooklyn-NY-11214/30731126_zpid/\n",
      "http://www.zillow.com/homedetails/62-28th-Ave-Brooklyn-NY-11214/30731227_zpid/\n",
      "http://www.zillow.com/homedetails/26-28-Bay-50th-Street-Unit-3b-FL-3-Brooklyn-NY-11214/2098693241_zpid/\n",
      "http://www.zillow.com/homedetails/222-Bay-44th-St-222A-Brooklyn-NY-11214/2097885684_zpid/\n",
      "http://www.zillow.com/homedetails/165-Bay-37-St-New-York-City-NY-11214/2097850772_zpid/\n",
      "http://www.zillow.com/homedetails/168-Bay-49-Street-Brooklyn-NY-11214/2099890328_zpid/\n",
      "http://www.zillow.com/homedetails/2851-Cropsey-Ave-Brooklyn-NY-11214/30731682_zpid/\n",
      "http://www.zillow.com/homedetails/157-Bay-50th-St-Brooklyn-NY-11214/30731755_zpid/\n",
      "http://www.zillow.com/homedetails/2511-120th-St-Flushing-NY-11354/32025138_zpid/\n",
      "http://www.zillow.com/homedetails/2612-123rd-St-Flushing-NY-11354/2097727987_zpid/\n",
      "http://www.zillow.com/homedetails/3234-147th-Pl-Flushing-NY-11354/32033410_zpid/\n"
     ]
    }
   ],
   "source": [
    "for i in links_sale['Zillow Links']:\n",
    "    print i"
   ]
  },
  {
   "cell_type": "code",
   "execution_count": 41,
   "metadata": {
    "collapsed": false
   },
   "outputs": [
    {
     "name": "stdout",
     "output_type": "stream",
     "text": [
      "http://www.zillow.com/homedetails/26-Bay-Ridge-Ave-APT-3C-Brooklyn-NY-11220/62648722_zpid/\n",
      "http://www.zillow.com/homedetails/162-Bay-43-St-1A-Brooklyn-NY-11214/2102152090_zpid/\n",
      "http://www.zillow.com/homedetails/26-28-Bay-50th-Street-Unit-3b-FL-3-Brooklyn-NY-11214/2098693241_zpid/\n",
      "http://www.zillow.com/homedetails/222-Bay-44th-St-222A-Brooklyn-NY-11214/2097885684_zpid/\n",
      "http://www.zillow.com/homedetails/2511-120th-St-Flushing-NY-11354/32025138_zpid/\n"
     ]
    }
   ],
   "source": [
    "for i in interested_link:\n",
    "    print i"
   ]
  },
  {
   "cell_type": "markdown",
   "metadata": {},
   "source": [
    "Future look into the links eliminated some choices based on \"On Sale\" price of the property and nearby schools. Then I can go look at these places and see if I like any of them."
   ]
  },
  {
   "cell_type": "markdown",
   "metadata": {},
   "source": [
    "# Result"
   ]
  },
  {
   "cell_type": "markdown",
   "metadata": {},
   "source": [
    "This is the result using current criteria. If this property is not of interest, I will need to relax other criteris (e.g. more zip codes) to find a more appropriate place to live."
   ]
  },
  {
   "cell_type": "markdown",
   "metadata": {},
   "source": [
    "Future work:\n",
    "1. Cross check properties with nearby restaurant ratings using yelp data\n",
    "2. Scrap transport rating of the property on each zillow page\n",
    "3. Scrap greatschool.org to circumvent zillow's 1000 request per day limit for school data"
   ]
  },
  {
   "cell_type": "markdown",
   "metadata": {},
   "source": [
    "This later work include import of Yelp data from:\n",
    "https://www.yelp.com/dataset_challenge/dataset"
   ]
  },
  {
   "cell_type": "markdown",
   "metadata": {
    "collapsed": true
   },
   "source": [
    "## Continuation"
   ]
  },
  {
   "cell_type": "markdown",
   "metadata": {},
   "source": [
    "Use Yelp API to find restaurants and other activities close by. Unfortunately Yelp API only return 20 result for each request. And the maximum is 1000 total responses. This is not bad for small towns, but NYC have 3624 Chinese restaurants (indicated in the 'total' field). So we need to find all of them if possbile."
   ]
  },
  {
   "cell_type": "markdown",
   "metadata": {},
   "source": [
    "Load the offical Yelp API for requesting data"
   ]
  },
  {
   "cell_type": "code",
   "execution_count": 55,
   "metadata": {
    "collapsed": false,
    "scrolled": true
   },
   "outputs": [],
   "source": [
    "from yelp.client import Client\n",
    "from yelp.oauth1_authenticator import Oauth1Authenticator\n",
    "\n",
    "# read API keys\n",
    "with io.open('config_secret.json') as cred:\n",
    "    creds = json.load(cred)\n",
    "    auth = Oauth1Authenticator(**creds)\n",
    "    client = Client(auth)"
   ]
  },
  {
   "cell_type": "code",
   "execution_count": 56,
   "metadata": {
    "collapsed": false
   },
   "outputs": [],
   "source": [
    "# set parameters to be Chinese Restaurants\n",
    "params = {\n",
    "    'term': 'restaurants',\n",
    "    'category_filter': cusine.lower(),\n",
    "    'location': 'New York, NY',\n",
    "    'sort': '0',\n",
    "    'offset': '0'\n",
    "}\n",
    "\n",
    "response = client.search(**params)"
   ]
  },
  {
   "cell_type": "code",
   "execution_count": 57,
   "metadata": {
    "collapsed": true
   },
   "outputs": [],
   "source": [
    "# find the total number of results\n",
    "yelp_counter = response.total"
   ]
  },
  {
   "cell_type": "code",
   "execution_count": 58,
   "metadata": {
    "collapsed": false
   },
   "outputs": [],
   "source": [
    "yelp_responses = []\n",
    "# find the number of request or offset needed to get all responses\n",
    "request_count = response.total / 20"
   ]
  },
  {
   "cell_type": "code",
   "execution_count": 59,
   "metadata": {
    "collapsed": false
   },
   "outputs": [
    {
     "data": {
      "text/plain": [
       "182"
      ]
     },
     "execution_count": 59,
     "metadata": {},
     "output_type": "execute_result"
    }
   ],
   "source": [
    "request_count"
   ]
  },
  {
   "cell_type": "code",
   "execution_count": 60,
   "metadata": {
    "collapsed": false
   },
   "outputs": [],
   "source": [
    "# loop until get all responses by offset\n",
    "get_counter = 0\n",
    "while (get_counter < request_count):\n",
    "    # set parameters to be Chinese Restaurants\n",
    "    params = {\n",
    "        'term': 'restaurants',\n",
    "        'category_filter': cusine.lower(),\n",
    "        'location': 'New York, NY',\n",
    "        'sort': '0',\n",
    "        'offset': str(get_counter * 20)\n",
    "    }\n",
    "    response = client.search(**params)\n",
    "    yelp_responses.append(response)\n",
    "    get_counter += 1\n",
    "    \n",
    "    # maximum 1000 respones\n",
    "    if (get_counter == 50):\n",
    "        break"
   ]
  },
  {
   "cell_type": "code",
   "execution_count": null,
   "metadata": {
    "collapsed": false
   },
   "outputs": [],
   "source": []
  },
  {
   "cell_type": "code",
   "execution_count": 61,
   "metadata": {
    "collapsed": false
   },
   "outputs": [],
   "source": [
    "# test to see if the business name make sense\n",
    "# yelp_responses[179].businesses[0].name"
   ]
  },
  {
   "cell_type": "code",
   "execution_count": 62,
   "metadata": {
    "collapsed": false
   },
   "outputs": [],
   "source": [
    "# loop through each list of yelp.responses and each business in each responese\n",
    "yelp_names = []\n",
    "yelp_rating = []\n",
    "yelp_zipcode = []\n",
    "for i in yelp_responses:\n",
    "    for j in i.businesses:\n",
    "        yelp_names.append(j.name)\n",
    "        yelp_rating.append(j.rating)\n",
    "        yelp_zipcode.append(j.location.postal_code)"
   ]
  },
  {
   "cell_type": "code",
   "execution_count": 63,
   "metadata": {
    "collapsed": false
   },
   "outputs": [],
   "source": [
    "# make a dataframe out of the info\n",
    "yelp_data = pd.DataFrame(list(yelp_names))\n",
    "yelp_data.columns=['Restaurant name']\n",
    "yelp_data['ratings'] = yelp_rating\n",
    "yelp_data['zipcode'] = yelp_zipcode"
   ]
  },
  {
   "cell_type": "code",
   "execution_count": null,
   "metadata": {
    "collapsed": false
   },
   "outputs": [],
   "source": []
  },
  {
   "cell_type": "code",
   "execution_count": null,
   "metadata": {
    "collapsed": false
   },
   "outputs": [],
   "source": []
  },
  {
   "cell_type": "code",
   "execution_count": 64,
   "metadata": {
    "collapsed": false
   },
   "outputs": [],
   "source": [
    "# group by zipcode, find the average ratings and count of restaurants per zipcode\n",
    "count_by_zip = yelp_data.groupby(by=['zipcode'])['ratings'].count()\n",
    "rating_by_zip = yelp_data.groupby(by=['zipcode'])['ratings'].mean()"
   ]
  },
  {
   "cell_type": "code",
   "execution_count": 65,
   "metadata": {
    "collapsed": false
   },
   "outputs": [],
   "source": [
    "# make a dataframe out of the info\n",
    "yelp_cm = pd.DataFrame(list(count_by_zip))\n",
    "yelp_cm.columns=['Count']\n",
    "yelp_cm['Average Rating'] = list(rating_by_zip)"
   ]
  },
  {
   "cell_type": "code",
   "execution_count": 66,
   "metadata": {
    "collapsed": false
   },
   "outputs": [
    {
     "data": {
      "text/plain": [
       "<matplotlib.text.Text at 0x10ae40f0>"
      ]
     },
     "execution_count": 66,
     "metadata": {},
     "output_type": "execute_result"
    },
    {
     "data": {
      "image/png": "[encoded data removed]",
      "text/plain": [
       "<matplotlib.figure.Figure at 0x244cf550>"
      ]
     },
     "metadata": {},
     "output_type": "display_data"
    }
   ],
   "source": [
    "# graph the # of restaurants vs rating\n",
    "sns.plt.scatter(yelp_cm['Average Rating'], yelp_cm['Count'])\n",
    "sns.plt.xlabel('Average Rating')\n",
    "sns.plt.ylabel('Number of Restaurants per zipcode')"
   ]
  },
  {
   "cell_type": "markdown",
   "metadata": {
    "collapsed": false
   },
   "source": [
    "This data is not as complete as the health inspection data because Yelp have a 1000 places limit"
   ]
  },
  {
   "cell_type": "code",
   "execution_count": null,
   "metadata": {
    "collapsed": false
   },
   "outputs": [],
   "source": []
  },
  {
   "cell_type": "markdown",
   "metadata": {
    "collapsed": false
   },
   "source": [
    "#Exploring appraisal data"
   ]
  },
  {
   "cell_type": "markdown",
   "metadata": {},
   "source": [
    "Here we just exploring the data and see if we can find out some interesting things about the data."
   ]
  },
  {
   "cell_type": "code",
   "execution_count": 67,
   "metadata": {
    "collapsed": false
   },
   "outputs": [
    {
     "data": {
      "text/plain": [
       "(0, 1000000)"
      ]
     },
     "execution_count": 67,
     "metadata": {},
     "output_type": "execute_result"
    },
    {
     "data": {
      "image/png": "[encoded data removed]",
      "text/plain": [
       "<matplotlib.figure.Figure at 0x14b94518>"
      ]
     },
     "metadata": {},
     "output_type": "display_data"
    }
   ],
   "source": [
    "# clearn zip code that doesn't make sense\n",
    "cleaned_data = data.loc[data['ZIP'] < 15000]\n",
    "cleaned_data = cleaned_data.loc[cleaned_data['ZIP'] > 10000]\n",
    "\n",
    "# look at house price between 100,000 and 1 million\n",
    "price_range = cleaned_data.loc[cleaned_data['CUR_FV_T'] < 1000000]\n",
    "price_range = price_range.loc[price_range['CUR_FV_T'] > 100000]\n",
    "sns.distplot(price_range['CUR_FV_T'], kde=False)\n",
    "sns.plt.xlim((0, 1000000))\n",
    "#sns.plt.ylim((0, 50))\n",
    "# most houses are between $300,000 and $800,000"
   ]
  },
  {
   "cell_type": "markdown",
   "metadata": {},
   "source": [
    "The propery price is shifted to the left, with most of the properties around 400,000 to 600,000. There is a long tail on the right with a few of the properties above the million dollar range. "
   ]
  },
  {
   "cell_type": "code",
   "execution_count": 68,
   "metadata": {
    "collapsed": false
   },
   "outputs": [
    {
     "data": {
      "text/plain": [
       "<matplotlib.axes._subplots.AxesSubplot at 0x20b93828>"
      ]
     },
     "execution_count": 68,
     "metadata": {},
     "output_type": "execute_result"
    },
    {
     "data": {
      "image/png": "[encoded data removed]",
      "text/plain": [
       "<matplotlib.figure.Figure at 0x14b922b0>"
      ]
     },
     "metadata": {},
     "output_type": "display_data"
    }
   ],
   "source": [
    "# find built year distribution\n",
    "year_built = price_range.loc[price_range['YRB'] < 2015]\n",
    "year_built = year_built.loc[year_built['YRB'] > 1900]\n",
    "sns.distplot(year_built['YRB'])"
   ]
  },
  {
   "cell_type": "markdown",
   "metadata": {},
   "source": [
    "Where as built year is continous after about 1980, built year between 1900 and 1980 always have a huge gap in between. It is either due to record keeping, or could be some other reason that resulted in this. Superfacial search on google showed the record keeping have may errors and these years are just an estimate.  "
   ]
  },
  {
   "cell_type": "code",
   "execution_count": null,
   "metadata": {
    "collapsed": false
   },
   "outputs": [],
   "source": []
  },
  {
   "cell_type": "markdown",
   "metadata": {},
   "source": [
    "#Machine Learning parts"
   ]
  },
  {
   "cell_type": "markdown",
   "metadata": {},
   "source": [
    "Used some machine learning to figure out what determine the price of a house. And see if realtors and estimate the price of a property based on available information. So the realtor have some idea of the appraised value of the property. This may be a different than the listing price, but it serves as a baseline.  "
   ]
  },
  {
   "cell_type": "code",
   "execution_count": null,
   "metadata": {
    "collapsed": false
   },
   "outputs": [],
   "source": []
  },
  {
   "cell_type": "code",
   "execution_count": 42,
   "metadata": {
    "collapsed": false
   },
   "outputs": [],
   "source": [
    "# only get numeric and drop NaN columns\n",
    "num_data = data._get_numeric_data()\n",
    "num_data=num_data.dropna(axis=1,how='any')"
   ]
  },
  {
   "cell_type": "code",
   "execution_count": 44,
   "metadata": {
    "collapsed": false
   },
   "outputs": [],
   "source": [
    "from sklearn.linear_model import LinearRegression"
   ]
  },
  {
   "cell_type": "code",
   "execution_count": 43,
   "metadata": {
    "collapsed": true
   },
   "outputs": [],
   "source": [
    "from sklearn.cross_validation import train_test_split\n",
    "\n",
    "X = num_data.drop('CUR_FV_T', axis=1)\n",
    "y = num_data.CUR_FV_T #use current value as label\n",
    "X_train, X_test, y_train, y_test = train_test_split(X, y, test_size=0.2)"
   ]
  },
  {
   "cell_type": "code",
   "execution_count": 51,
   "metadata": {
    "collapsed": false,
    "scrolled": true
   },
   "outputs": [
    {
     "data": {
      "text/plain": [
       "KNeighborsRegressor(algorithm='auto', leaf_size=30, metric='minkowski',\n",
       "          metric_params=None, n_jobs=1, n_neighbors=3, p=2,\n",
       "          weights='uniform')"
      ]
     },
     "execution_count": 51,
     "metadata": {},
     "output_type": "execute_result"
    }
   ],
   "source": [
    "# use KNN to fit the data\n",
    "from sklearn.neighbors import KNeighborsRegressor\n",
    "\n",
    "knn_model = KNeighborsRegressor(n_neighbors=3)\n",
    "knn_model.fit(X_train, y_train)"
   ]
  },
  {
   "cell_type": "code",
   "execution_count": 52,
   "metadata": {
    "collapsed": false
   },
   "outputs": [
    {
     "name": "stdout",
     "output_type": "stream",
     "text": [
      "Average loss: 1.0423180902e+17\n",
      "KNN loss: 5.04650112863e+15\n",
      "Variation explained:  95.1583866997 %\n"
     ]
    }
   ],
   "source": [
    "knn_y = knn_model.predict(X_test)\n",
    "\n",
    "knn_sum_squares = ((knn_y - y_test) ** 2).sum()\n",
    "mean_sum_squares = ((y_test.mean() - y_test) ** 2).sum()\n",
    "\n",
    "print \"Average loss:\", mean_sum_squares\n",
    "print \"KNN loss:\", knn_sum_squares\n",
    "print \"Variation explained: \", 100 * (1 - knn_sum_squares / mean_sum_squares), \"%\""
   ]
  },
  {
   "cell_type": "code",
   "execution_count": 53,
   "metadata": {
    "collapsed": false
   },
   "outputs": [
    {
     "name": "stdout",
     "output_type": "stream",
     "text": [
      "R^2:  0.951583866997\n"
     ]
    }
   ],
   "source": [
    "print \"R^2: \", knn_model.score(X_test, y_test)"
   ]
  },
  {
   "cell_type": "code",
   "execution_count": 47,
   "metadata": {
    "collapsed": false
   },
   "outputs": [
    {
     "data": {
      "text/plain": [
       "LinearRegression(copy_X=True, fit_intercept=True, n_jobs=1, normalize=False)"
      ]
     },
     "execution_count": 47,
     "metadata": {},
     "output_type": "execute_result"
    }
   ],
   "source": [
    "# use GLM to fit the data\n",
    "\n",
    "linear_model = LinearRegression()\n",
    "linear_model.fit(X_train, y_train)"
   ]
  },
  {
   "cell_type": "code",
   "execution_count": 48,
   "metadata": {
    "collapsed": false
   },
   "outputs": [
    {
     "name": "stdout",
     "output_type": "stream",
     "text": [
      "0.995383851577\n"
     ]
    }
   ],
   "source": [
    "print linear_model.score(X_test, y_test)"
   ]
  },
  {
   "cell_type": "code",
   "execution_count": 54,
   "metadata": {
    "collapsed": false
   },
   "outputs": [
    {
     "data": {
      "image/png": "[encoded data removed]",
      "text/plain": [
       "<matplotlib.figure.Figure at 0x2239a710>"
      ]
     },
     "metadata": {},
     "output_type": "display_data"
    },
    {
     "data": {
      "image/png": "[encoded data removed]",
      "text/plain": [
       "<matplotlib.figure.Figure at 0x223ccef0>"
      ]
     },
     "metadata": {},
     "output_type": "display_data"
    }
   ],
   "source": [
    "# compare KNN and GLM\n",
    "sns.plt.scatter(y_test, knn_model.predict(X_test))\n",
    "sns.plt.title('KNN Prediction Analysis')\n",
    "sns.plt.xlabel('Real Value')\n",
    "sns.plt.ylabel('Prediction')\n",
    "plt.show()\n",
    "\n",
    "sns.plt.scatter(y_test, linear_model.predict(X_test))\n",
    "sns.plt.title('Linear Regression Prediction Analysis')\n",
    "sns.plt.xlabel('Real Value')\n",
    "sns.plt.ylabel('Prediction')\n",
    "plt.show()"
   ]
  },
  {
   "cell_type": "code",
   "execution_count": 45,
   "metadata": {
    "collapsed": false
   },
   "outputs": [
    {
     "data": {
      "text/plain": [
       "0.99538385157675158"
      ]
     },
     "execution_count": 45,
     "metadata": {},
     "output_type": "execute_result"
    }
   ],
   "source": [
    "# use Pipeline to run preprocessing and GLM together\n",
    "\n",
    "from sklearn.pipeline import Pipeline, make_pipeline\n",
    "from sklearn.preprocessing import StandardScaler\n",
    "pipeline = make_pipeline(StandardScaler(), LinearRegression())\n",
    "pipeline.fit(X_train, y_train)\n",
    "pipeline.score(X_test, y_test)"
   ]
  },
  {
   "cell_type": "code",
   "execution_count": 46,
   "metadata": {
    "collapsed": false
   },
   "outputs": [
    {
     "data": {
      "image/png": "[encoded data removed]",
      "text/plain": [
       "<matplotlib.figure.Figure at 0x600f518>"
      ]
     },
     "metadata": {},
     "output_type": "display_data"
    }
   ],
   "source": [
    "sns.plt.scatter(y_test, pipeline.predict(X_test))\n",
    "sns.plt.title('Linear Regression Prediction Analysis')\n",
    "sns.plt.xlabel('Real Value')\n",
    "sns.plt.ylabel('Prediction')\n",
    "plt.show()"
   ]
  },
  {
   "cell_type": "markdown",
   "metadata": {},
   "source": [
    "GLM resulted in the best predition, and it's a lot faster than KNN. Now if we have all the information, then we could estimate the appraisal value of the property. It also indicate that there is a formula for appraisal and we can probably find the formula for future use. "
   ]
  },
  {
   "cell_type": "code",
   "execution_count": null,
   "metadata": {
    "collapsed": true
   },
   "outputs": [],
   "source": []
  }
 ],
 "metadata": {
  "kernelspec": {
   "display_name": "Python 2",
   "language": "python",
   "name": "python2"
  },
  "language_info": {
   "codemirror_mode": {
    "name": "ipython",
    "version": 2
   },
   "file_extension": ".py",
   "mimetype": "text/x-python",
   "name": "python",
   "nbconvert_exporter": "python",
   "pygments_lexer": "ipython2",
   "version": "2.7.12"
  }
 },
 "nbformat": 4,
 "nbformat_minor": 0
}
